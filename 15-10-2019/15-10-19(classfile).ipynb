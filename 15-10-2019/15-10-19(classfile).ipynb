{
 "cells": [
  {
   "cell_type": "code",
   "execution_count": 1,
   "metadata": {},
   "outputs": [],
   "source": [
    "#creating a file\n",
    "filepath=\"content.txt\"\n",
    "def create(filepath):\n",
    "    with open(filepath,'w') as f:\n",
    "        f.write(\"hi\\n hello \\n welcome to python\")\n",
    "create(filepath)"
   ]
  },
  {
   "cell_type": "code",
   "execution_count": 4,
   "metadata": {},
   "outputs": [
    {
     "name": "stdout",
     "output_type": "stream",
     "text": [
      "hi\n",
      " hello \n",
      " welcome to python\n"
     ]
    }
   ],
   "source": [
    "#read data\n",
    "filepath=\"content.txt\"\n",
    "def readdata(filepath):\n",
    "    with open(filepath,'r') as f:\n",
    "        f1=f.read()\n",
    "        print(f1)\n",
    "readdata(filepath)"
   ]
  },
  {
   "cell_type": "code",
   "execution_count": 20,
   "metadata": {},
   "outputs": [],
   "source": [
    "#generate student marks write and random\n",
    "filepath=\"student marks.txt\"\n",
    "import random \n",
    "def marksmemo(filepath,n):\n",
    "     with open(filepath,'w') as f:\n",
    "        for i in range(n):\n",
    "            f.write(str(random.randint(1,100))+'\\n')\n",
    "marksmemo(filepath,50)\n",
    "        "
   ]
  },
  {
   "cell_type": "code",
   "execution_count": 21,
   "metadata": {},
   "outputs": [],
   "source": [
    "#class average percentage\n",
    "#pass percentage\n"
   ]
  },
  {
   "cell_type": "code",
   "execution_count": 21,
   "metadata": {},
   "outputs": [
    {
     "name": "stdout",
     "output_type": "stream",
     "text": [
      "2418\n",
      "50\n"
     ]
    },
    {
     "data": {
      "text/plain": [
       "48"
      ]
     },
     "execution_count": 21,
     "metadata": {},
     "output_type": "execute_result"
    }
   ],
   "source": [
    "#classs average\n",
    "fileapath=\"student.txt\"\n",
    "def classavg(filepath):\n",
    "    s=0\n",
    "    c=0\n",
    "    with open(filepath,'r') as f:\n",
    "        f1=f.read()\n",
    "        l=f1.split()\n",
    "        for i in l:\n",
    "            s=s+int(i)\n",
    "            c=c+1\n",
    "        avg=s//c\n",
    "        print(s)\n",
    "        print(c)\n",
    "    return avg\n",
    "classavg(filepath)"
   ]
  },
  {
   "cell_type": "code",
   "execution_count": 22,
   "metadata": {},
   "outputs": [
    {
     "name": "stdout",
     "output_type": "stream",
     "text": [
      "50\n",
      "56.00000000000001\n"
     ]
    }
   ],
   "source": [
    "#pass percentage\n",
    "#fail percentage\n",
    "fileapath=\"student marks.txt\"\n",
    "def passpercentage(filepath):\n",
    "    passed_count=0\n",
    "    total_count=0\n",
    "    with open(filepath,'r') as f:\n",
    "        filedata=f.read()\n",
    "        for i in filedata.split():\n",
    "            total_count+=1\n",
    "            if int(i)>=35:\n",
    "                passed_count+=1\n",
    "        print(total_count)\n",
    "        print((passed_count/total_count)*100)    \n",
    "passpercentage(filepath)\n",
    "        "
   ]
  },
  {
   "cell_type": "code",
   "execution_count": 57,
   "metadata": {},
   "outputs": [
    {
     "name": "stdout",
     "output_type": "stream",
     "text": [
      "3 78 41 49 15 11 80 46 85 77 89 70 66 4 66 41 33 35 84 76 14 44 85 38 9 29 61 14 39 22 9 8 50 15 89 29 59 20 39 23 39 47 74 69 10 21 82 "
     ]
    }
   ],
   "source": [
    "#high and lowest\n",
    "filepath=\"student marks.txt\"\n",
    "def highest(filepath):\n",
    "    with open(filepath,'r') as f:\n",
    "        f1=f.read()\n",
    "        for i in f1.split():\n",
    "            if int(i)<=90:\n",
    "                print(i,end=\" \")\n",
    "highest(filepath)"
   ]
  },
  {
   "cell_type": "code",
   "execution_count": 58,
   "metadata": {},
   "outputs": [],
   "source": [
    "#first class percentage\n",
    "#second class percentage\n",
    "#third class percentage"
   ]
  },
  {
   "cell_type": "code",
   "execution_count": 7,
   "metadata": {},
   "outputs": [
    {
     "name": "stdout",
     "output_type": "stream",
     "text": [
      "['hi', ' hello ', ' welcome to python', ' hi', ' hi']\n",
      "hi : 1\n",
      " hello  : 1\n",
      " welcome to python : 1\n",
      " hi : 2\n",
      " hi : 2\n"
     ]
    }
   ],
   "source": [
    "#flength of words using set\n",
    "filepath=\"content.txt\"\n",
    "def frequencyofwords(filepath):\n",
    "    with open(filepath,'r') as f:\n",
    "        f1=f.read()\n",
    "        l=f1.split('\\n')\n",
    "        print(l)\n",
    "        for i in l:\n",
    "            print(i,':',l.count(i))\n",
    "frequencyofwords(filepath)\n",
    "            \n",
    "            \n",
    "        "
   ]
  },
  {
   "cell_type": "code",
   "execution_count": 8,
   "metadata": {},
   "outputs": [
    {
     "name": "stdout",
     "output_type": "stream",
     "text": [
      "['hi', ' hello ', ' welcome to python', ' hi', ' hi']\n",
      "hi : 1\n",
      " hello  : 1\n",
      " welcome to python : 1\n",
      " hi : 2\n",
      " hi : 2\n"
     ]
    }
   ],
   "source": [
    "filepath=\"content.txt\"\n",
    "def frequencyofwords(filepath):\n",
    "    d={}\n",
    "    with open(filepath,'r') as f:\n",
    "        f1=f.read()\n",
    "        l=f1.split('\\n')\n",
    "        print(l)\n",
    "        for i in l:\n",
    "            print(i,':',l.count(i))\n",
    "frequencyofwords(filepath)\n",
    "            "
   ]
  },
  {
   "cell_type": "code",
   "execution_count": 86,
   "metadata": {},
   "outputs": [
    {
     "name": "stdout",
     "output_type": "stream",
     "text": [
      "{'f': 2, 'g': 2, ' ': 2, 'v': 1, 'h': 1, 's': 1, 'j': 1}\n"
     ]
    }
   ],
   "source": [
    "#example  #words for split\n",
    "d={}\n",
    "s=\"ffg vg hsj\"\n",
    "for i in s:\n",
    "    #print(i,':',s.count(i),end=\" \")\n",
    "    d[i]=s.count(i)\n",
    "print(d)"
   ]
  },
  {
   "cell_type": "code",
   "execution_count": 9,
   "metadata": {},
   "outputs": [
    {
     "name": "stdout",
     "output_type": "stream",
     "text": [
      "['hi', ' hello ', ' welcome to python', ' hi', ' hi']\n"
     ]
    },
    {
     "data": {
      "text/plain": [
       "{'hi': 1, ' hello ': 1, ' welcome to python': 1, ' hi': 2}"
      ]
     },
     "execution_count": 9,
     "metadata": {},
     "output_type": "execute_result"
    }
   ],
   "source": [
    "filepath=\"content.txt\"\n",
    "def frequencyofwords(filepath):\n",
    "    d={}\n",
    "    with open(filepath,'r') as f:\n",
    "        f1=f.read()\n",
    "        l=f1.split('\\n')\n",
    "        print(l)\n",
    "        for i in set(l):\n",
    "            d[i]=l.count(i)\n",
    "    return d\n",
    "frequencyofwords(filepath)\n",
    "            "
   ]
  },
  {
   "cell_type": "code",
   "execution_count": 24,
   "metadata": {},
   "outputs": [
    {
     "name": "stdout",
     "output_type": "stream",
     "text": [
      "hi\n",
      " hello \n",
      " welcome to python\n",
      " hi\n",
      " hihi\n",
      " hello \n",
      " welcome to hello\n",
      " hi\n",
      " hi"
     ]
    }
   ],
   "source": [
    "#string placement\n",
    "filepath=\"content.txt\"\n",
    "def frequencywords(filepath):\n",
    "    with open(filepath,'r') as f:\n",
    "        f1=f.read()\n",
    "        s=f1.replace(\"python\",\"hello\")\n",
    "        print(f1,end=\"\")\n",
    "        print(s,end=\"\")\n",
    "frequencywords(filepath)\n",
    "            "
   ]
  },
  {
   "cell_type": "code",
   "execution_count": null,
   "metadata": {},
   "outputs": [],
   "source": []
  }
 ],
 "metadata": {
  "kernelspec": {
   "display_name": "Python 3",
   "language": "python",
   "name": "python3"
  },
  "language_info": {
   "codemirror_mode": {
    "name": "ipython",
    "version": 3
   },
   "file_extension": ".py",
   "mimetype": "text/x-python",
   "name": "python",
   "nbconvert_exporter": "python",
   "pygments_lexer": "ipython3",
   "version": "3.7.3"
  }
 },
 "nbformat": 4,
 "nbformat_minor": 2
}
