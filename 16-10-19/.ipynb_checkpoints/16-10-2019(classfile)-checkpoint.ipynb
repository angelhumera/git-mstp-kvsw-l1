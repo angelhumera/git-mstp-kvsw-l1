{
 "cells": [
  {
   "cell_type": "markdown",
   "metadata": {},
   "source": [
    "  ## Handling csv files "
   ]
  },
  {
   "cell_type": "code",
   "execution_count": 2,
   "metadata": {},
   "outputs": [],
   "source": [
    "#created a file with MSTP\n",
    "file=\"mstp.txt\"\n",
    "def name(file):\n",
    "    with open(file,'w') as f:\n",
    "        f.write(\"kvsw\"+\",\"+\"kvsr\"+\",\"+\"kvsm\")\n",
    "name(file)"
   ]
  },
  {
   "cell_type": "code",
   "execution_count": 3,
   "metadata": {},
   "outputs": [],
   "source": [
    "#append in that file MSTP\n",
    "s=\"\\n apssdc\"\n",
    "with open(file,'a') as f:\n",
    "    f.write(s)"
   ]
  },
  {
   "cell_type": "code",
   "execution_count": 4,
   "metadata": {},
   "outputs": [
    {
     "name": "stdout",
     "output_type": "stream",
     "text": [
      "kvsw,kvsr,kvsm\n",
      " apssdc\n"
     ]
    }
   ],
   "source": [
    "#reading data\n",
    "with open(file,'r') as f:\n",
    "    s=f.read()\n",
    "    print(s)"
   ]
  },
  {
   "cell_type": "code",
   "execution_count": 8,
   "metadata": {},
   "outputs": [
    {
     "name": "stdout",
     "output_type": "stream",
     "text": [
      "kvsw,kvsr,kvsm\n",
      "\n"
     ]
    }
   ],
   "source": [
    "#reading data by line\n",
    "with open(file,'r') as f:\n",
    "    s=f.readlines()  \n",
    "    print(s[0])           #(s) list il get"
   ]
  },
  {
   "cell_type": "code",
   "execution_count": 17,
   "metadata": {},
   "outputs": [],
   "source": [
    "#append\n",
    "file=\"contacts.txt\"\n",
    "with open(file,\"a\") as f:\n",
    "    f.write(\"name\"+\",\"+\"9966404102\"+\",\"+\"kvswcollege@gmail.com\")\n",
    "    f.write(\"\\nname1\"+\",\"+\"9966404102\"+\",\"+\"apssdccollege@gmail.com\")\n",
    "    \n",
    "    "
   ]
  },
  {
   "cell_type": "code",
   "execution_count": 21,
   "metadata": {},
   "outputs": [
    {
     "name": "stdout",
     "output_type": "stream",
     "text": [
      "name,9966404102,kvswcollege@gmail.comname\n",
      "\n",
      "name,9966404102,kvswcollege@gmail.comname\n",
      "name1,9966404102,apssdccollege@gmail.com\n"
     ]
    }
   ],
   "source": [
    "#data in list getting\n",
    "#list of list(converting)return\n",
    "def csvtolist(file):\n",
    "    l=[]\n",
    "    with open(file,\"r\") as f:\n",
    "        for line in f:\n",
    "            l.append(line.split(\",\"))\n",
    "    return l\n",
    "    #print(l)\n",
    "    #print(l[0][1]) --->phonenu.\n",
    "    #print(l[0][2])\n",
    "        #s=f.readlines()\n",
    "        #s=s.split()\n",
    "        #print(s)\n",
    "        #print(s[1])\n",
    "csvtolist(file)\n",
    "def listtocsv(file):\n",
    "    d=csvtolist(file) #, sep\n",
    "    s=\"\"\n",
    "    for i in d:\n",
    "        s+=\",\".join(i)\n",
    "        print(s)\n",
    "listtocsv(file)"
   ]
  },
  {
   "cell_type": "code",
   "execution_count": 22,
   "metadata": {},
   "outputs": [],
   "source": [
    "#add phone and email\n",
    "import re\n",
    "def phonevalidation(no):\n",
    "    pattern='^([0-9]|[a-z]|[A-Z])([0-9]|[a-z]|[A-Z]|[_]){6,14}([0-9]|[a-z])@[a-z]{2,10}[.][a-z]{2,4}$'\n",
    "    if re.match(pattern,no):\n",
    "        return True\n",
    "    else:\n",
    "        return False\n",
    "def email(email):\n",
    "    pattern='^([0-9]|[a-z]|[A-Z])([0-9]|[a-z]|[A-Z]|[_]){6,14}([0-9]|[a-z])@[a-z]{2,10}[.][a-z]{2,4}$'\n",
    "    if re.match(pattern,no):\n",
    "        return True\n",
    "    else:\n",
    "        return False\n",
    "def searchcontact(name,file):\n",
    "    s=csvtolist(file)\n",
    "    for i in s:\n",
    "        if i[0]==name:\n",
    "            return 1\n",
    "    return 0\n",
    "searchcontact(\"name\",\"contacts.txt\")\n",
    "def addcontacts(name,no,email,file):\n",
    "    if searchcontact(name,file)==0:\n",
    "        if phonevalidation(no)==1:\n",
    "            if email(email)==1:\n",
    "                with open(file,'a') as f:\n",
    "                    f.write(\"\\n\"+name+\",\"+no+\",\"+email)\n",
    "                    print(\"contact added successfully\")\n",
    "    else:\n",
    "        print(\"contact already exists\")\n",
    "addcontacts(\"cse\",\"9966404102\",\"kvswcse@gmail.com\",\"contacts.txt\")"
   ]
  },
  {
   "cell_type": "code",
   "execution_count": null,
   "metadata": {},
   "outputs": [],
   "source": []
  }
 ],
 "metadata": {
  "kernelspec": {
   "display_name": "Python 3",
   "language": "python",
   "name": "python3"
  },
  "language_info": {
   "codemirror_mode": {
    "name": "ipython",
    "version": 3
   },
   "file_extension": ".py",
   "mimetype": "text/x-python",
   "name": "python",
   "nbconvert_exporter": "python",
   "pygments_lexer": "ipython3",
   "version": "3.7.3"
  }
 },
 "nbformat": 4,
 "nbformat_minor": 2
}
