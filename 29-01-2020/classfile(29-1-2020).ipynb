{
 "cells": [
  {
   "cell_type": "code",
   "execution_count": 1,
   "metadata": {},
   "outputs": [],
   "source": [
    "from datetime import datetime"
   ]
  },
  {
   "cell_type": "code",
   "execution_count": 2,
   "metadata": {},
   "outputs": [
    {
     "data": {
      "text/plain": [
       "datetime.datetime(2020, 1, 29, 14, 58, 41, 30624)"
      ]
     },
     "execution_count": 2,
     "metadata": {},
     "output_type": "execute_result"
    }
   ],
   "source": [
    "a=datetime.now()\n",
    "a"
   ]
  },
  {
   "cell_type": "code",
   "execution_count": 3,
   "metadata": {},
   "outputs": [
    {
     "name": "stdout",
     "output_type": "stream",
     "text": [
      "2020-01-29 14:58:41.180224\n",
      "Date now :29-1-2020\n"
     ]
    }
   ],
   "source": [
    "from datetime import *\n",
    "now=datetime.now()\n",
    "print(now)\n",
    "print('Date now :{}-{}-{}'.format(now.day,now.month,now.year))"
   ]
  },
  {
   "cell_type": "code",
   "execution_count": 4,
   "metadata": {},
   "outputs": [
    {
     "name": "stdout",
     "output_type": "stream",
     "text": [
      "2020-01-29 14:58:41.321024\n",
      "Date now :29-1-2020\n",
      "Time now :14:58:41\n"
     ]
    }
   ],
   "source": [
    "from datetime import *\n",
    "now=datetime.now()\n",
    "print(now)\n",
    "print('Date now :{}-{}-{}'.format(now.day,now.month,now.year))\n",
    "print('Time now :{}:{}:{}'.format(now.hour,now.minute,now.second))"
   ]
  },
  {
   "cell_type": "code",
   "execution_count": 5,
   "metadata": {},
   "outputs": [
    {
     "name": "stdout",
     "output_type": "stream",
     "text": [
      "2020-01-29 14:58:41.430224\n",
      "Today date and time: 2020-01-29 14:58:41.430224\n",
      "2020-01-29\n"
     ]
    }
   ],
   "source": [
    "tdm=datetime.today()\n",
    "print(tdm)\n",
    "print('Today date and time:',tdm)\n",
    "td=date.today()\n",
    "print(td)"
   ]
  },
  {
   "cell_type": "code",
   "execution_count": 6,
   "metadata": {},
   "outputs": [
    {
     "name": "stdout",
     "output_type": "stream",
     "text": [
      "926 days, 15:45:00\n"
     ]
    }
   ],
   "source": [
    "delta=datetime(2011, 1, 7)-datetime(2008, 6, 24, 8, 15)\n",
    "print(delta)"
   ]
  },
  {
   "cell_type": "code",
   "execution_count": 7,
   "metadata": {},
   "outputs": [
    {
     "name": "stdout",
     "output_type": "stream",
     "text": [
      "926 days, 15:45:00\n",
      "926\n"
     ]
    }
   ],
   "source": [
    "delta=datetime(2011, 1, 7)-datetime(2008, 6, 24, 8, 15)\n",
    "print(delta)\n",
    "print(delta.days)"
   ]
  },
  {
   "cell_type": "code",
   "execution_count": 8,
   "metadata": {},
   "outputs": [
    {
     "data": {
      "text/plain": [
       "datetime.timedelta(days=926, seconds=56700)"
      ]
     },
     "execution_count": 8,
     "metadata": {},
     "output_type": "execute_result"
    }
   ],
   "source": [
    "delta"
   ]
  },
  {
   "cell_type": "code",
   "execution_count": 9,
   "metadata": {},
   "outputs": [
    {
     "name": "stdout",
     "output_type": "stream",
     "text": [
      "80063100.0\n"
     ]
    }
   ],
   "source": [
    "print(delta.total_seconds())"
   ]
  },
  {
   "cell_type": "code",
   "execution_count": 10,
   "metadata": {},
   "outputs": [
    {
     "data": {
      "text/plain": [
       "datetime.datetime(2012, 7, 19, 0, 0)"
      ]
     },
     "execution_count": 10,
     "metadata": {},
     "output_type": "execute_result"
    }
   ],
   "source": [
    "datetime(2011,12,26)+timedelta(206)"
   ]
  },
  {
   "cell_type": "code",
   "execution_count": 11,
   "metadata": {},
   "outputs": [],
   "source": [
    "dates=[datetime(2011, 1, 2),datetime(2011, 1,5),datetime(2011, 1, 7),]"
   ]
  },
  {
   "cell_type": "code",
   "execution_count": 12,
   "metadata": {},
   "outputs": [
    {
     "data": {
      "text/plain": [
       "2011-01-02   -0.653413\n",
       "2011-01-05   -0.440725\n",
       "2011-01-07    1.325655\n",
       "dtype: float64"
      ]
     },
     "execution_count": 12,
     "metadata": {},
     "output_type": "execute_result"
    }
   ],
   "source": [
    "import numpy as np\n",
    "import pandas as pd \n",
    "ts = pd.Series(np.random.randn(3),index=dates)\n",
    "ts"
   ]
  },
  {
   "cell_type": "code",
   "execution_count": 13,
   "metadata": {},
   "outputs": [
    {
     "data": {
      "text/plain": [
       "DatetimeIndex(['2011-01-02', '2011-01-05', '2011-01-07'], dtype='datetime64[ns]', freq=None)"
      ]
     },
     "execution_count": 13,
     "metadata": {},
     "output_type": "execute_result"
    }
   ],
   "source": [
    "ts.index"
   ]
  },
  {
   "cell_type": "code",
   "execution_count": 14,
   "metadata": {},
   "outputs": [
    {
     "data": {
      "text/plain": [
       "Timestamp('2011-01-02 00:00:00')"
      ]
     },
     "execution_count": 14,
     "metadata": {},
     "output_type": "execute_result"
    }
   ],
   "source": [
    "stamp=ts.index[0]\n",
    "stamp"
   ]
  },
  {
   "cell_type": "code",
   "execution_count": 15,
   "metadata": {},
   "outputs": [
    {
     "data": {
      "text/plain": [
       "-0.6534126403972397"
      ]
     },
     "execution_count": 15,
     "metadata": {},
     "output_type": "execute_result"
    }
   ],
   "source": [
    "ts[stamp]"
   ]
  },
  {
   "cell_type": "code",
   "execution_count": 16,
   "metadata": {},
   "outputs": [
    {
     "data": {
      "text/plain": [
       "Timestamp('2011-01-05 00:00:00')"
      ]
     },
     "execution_count": 16,
     "metadata": {},
     "output_type": "execute_result"
    }
   ],
   "source": [
    "stamp=ts.index[1]\n",
    "stamp"
   ]
  },
  {
   "cell_type": "code",
   "execution_count": 17,
   "metadata": {},
   "outputs": [
    {
     "data": {
      "text/plain": [
       "-0.4407254201720161"
      ]
     },
     "execution_count": 17,
     "metadata": {},
     "output_type": "execute_result"
    }
   ],
   "source": [
    "ts[stamp]"
   ]
  },
  {
   "cell_type": "code",
   "execution_count": 18,
   "metadata": {},
   "outputs": [
    {
     "name": "stdout",
     "output_type": "stream",
     "text": [
      "2020-01-29 14:58:43.280024\n",
      "1580290123.280024\n"
     ]
    }
   ],
   "source": [
    "now=datetime.now()\n",
    "print(now)\n",
    "timestamp=datetime=datetime.timestamp(now)\n",
    "print(timestamp)"
   ]
  },
  {
   "cell_type": "code",
   "execution_count": 19,
   "metadata": {},
   "outputs": [
    {
     "name": "stdout",
     "output_type": "stream",
     "text": [
      "2000-01-01    0.530129\n",
      "2000-01-02    0.051164\n",
      "2000-01-03   -3.299937\n",
      "2000-01-04   -1.152913\n",
      "2000-01-05   -1.326943\n",
      "2000-01-06    0.739016\n",
      "2000-01-07    0.757579\n",
      "2000-01-08   -0.383973\n",
      "2000-01-09    1.336009\n",
      "2000-01-10    1.352884\n",
      "2000-01-11    1.255100\n",
      "2000-01-12   -1.117095\n",
      "2000-01-13    0.115950\n",
      "2000-01-14   -0.473544\n",
      "2000-01-15    0.470661\n",
      "2000-01-16    2.678791\n",
      "2000-01-17    0.946301\n",
      "2000-01-18    0.097772\n",
      "2000-01-19    0.266561\n",
      "2000-01-20    1.053429\n",
      "2000-01-21   -0.439035\n",
      "2000-01-22   -1.118879\n",
      "2000-01-23   -0.079301\n",
      "2000-01-24    0.671536\n",
      "2000-01-25    0.226369\n",
      "2000-01-26    1.276143\n",
      "2000-01-27   -0.361609\n",
      "2000-01-28    1.600170\n",
      "2000-01-29   -0.800700\n",
      "2000-01-30    2.206422\n",
      "                ...   \n",
      "2002-08-28    0.167282\n",
      "2002-08-29   -1.883609\n",
      "2002-08-30   -1.118854\n",
      "2002-08-31    0.511391\n",
      "2002-09-01    0.224223\n",
      "2002-09-02   -1.183228\n",
      "2002-09-03   -0.417368\n",
      "2002-09-04    2.594977\n",
      "2002-09-05   -0.773503\n",
      "2002-09-06    1.024965\n",
      "2002-09-07    0.669098\n",
      "2002-09-08    0.966377\n",
      "2002-09-09   -0.436427\n",
      "2002-09-10    0.146677\n",
      "2002-09-11   -0.502334\n",
      "2002-09-12    0.941613\n",
      "2002-09-13   -0.124448\n",
      "2002-09-14    1.513232\n",
      "2002-09-15    1.183271\n",
      "2002-09-16    0.683870\n",
      "2002-09-17    0.522700\n",
      "2002-09-18    2.700307\n",
      "2002-09-19    0.783224\n",
      "2002-09-20    0.723665\n",
      "2002-09-21    0.389445\n",
      "2002-09-22   -2.921122\n",
      "2002-09-23   -0.217461\n",
      "2002-09-24    1.907809\n",
      "2002-09-25   -0.337787\n",
      "2002-09-26   -0.237092\n",
      "Freq: D, Length: 1000, dtype: float64\n"
     ]
    }
   ],
   "source": [
    "longer_ts = pd.Series(np.random.randn(1000),index=pd.date_range('1/1/2000',periods=1000))\n",
    "print(longer_ts)"
   ]
  },
  {
   "cell_type": "code",
   "execution_count": 20,
   "metadata": {},
   "outputs": [
    {
     "data": {
      "text/plain": [
       "2001-01-01    0.973675\n",
       "2001-01-02   -3.353170\n",
       "2001-01-03    0.387762\n",
       "2001-01-04    1.139860\n",
       "2001-01-05   -1.390953\n",
       "2001-01-06    0.398688\n",
       "2001-01-07   -0.377829\n",
       "2001-01-08   -0.807993\n",
       "2001-01-09    0.801108\n",
       "2001-01-10    0.516069\n",
       "2001-01-11   -0.943810\n",
       "2001-01-12    0.642038\n",
       "2001-01-13   -0.166319\n",
       "2001-01-14   -1.203602\n",
       "2001-01-15   -2.274959\n",
       "2001-01-16    2.577601\n",
       "2001-01-17   -1.761824\n",
       "2001-01-18   -1.864182\n",
       "2001-01-19    1.898061\n",
       "2001-01-20    0.427396\n",
       "2001-01-21    0.235055\n",
       "2001-01-22    1.277648\n",
       "2001-01-23    2.315901\n",
       "2001-01-24   -0.461935\n",
       "2001-01-25    0.344631\n",
       "2001-01-26    0.346869\n",
       "2001-01-27    1.393583\n",
       "2001-01-28   -0.170326\n",
       "2001-01-29   -0.289056\n",
       "2001-01-30    0.106228\n",
       "                ...   \n",
       "2001-12-02    1.760063\n",
       "2001-12-03    0.397731\n",
       "2001-12-04   -0.043335\n",
       "2001-12-05    0.142843\n",
       "2001-12-06    0.968691\n",
       "2001-12-07    0.450038\n",
       "2001-12-08    1.075791\n",
       "2001-12-09    0.643195\n",
       "2001-12-10    0.000584\n",
       "2001-12-11   -2.019428\n",
       "2001-12-12    0.012021\n",
       "2001-12-13    0.890033\n",
       "2001-12-14   -0.527731\n",
       "2001-12-15   -0.802755\n",
       "2001-12-16   -1.138568\n",
       "2001-12-17    0.326337\n",
       "2001-12-18   -1.821316\n",
       "2001-12-19   -0.286837\n",
       "2001-12-20    2.668277\n",
       "2001-12-21   -0.393763\n",
       "2001-12-22    0.352920\n",
       "2001-12-23    1.742372\n",
       "2001-12-24    1.927786\n",
       "2001-12-25    1.833152\n",
       "2001-12-26    1.094002\n",
       "2001-12-27    2.544256\n",
       "2001-12-28    1.332680\n",
       "2001-12-29    1.624068\n",
       "2001-12-30    0.967170\n",
       "2001-12-31   -0.286787\n",
       "Freq: D, Length: 365, dtype: float64"
      ]
     },
     "execution_count": 20,
     "metadata": {},
     "output_type": "execute_result"
    }
   ],
   "source": [
    "longer_ts['2001']"
   ]
  },
  {
   "cell_type": "code",
   "execution_count": 21,
   "metadata": {},
   "outputs": [
    {
     "data": {
      "text/plain": [
       "2001-05-01    1.391897\n",
       "2001-05-02   -0.702501\n",
       "2001-05-03   -0.387875\n",
       "2001-05-04   -0.106165\n",
       "2001-05-05   -0.316632\n",
       "2001-05-06    0.537734\n",
       "2001-05-07   -0.260690\n",
       "2001-05-08   -1.055821\n",
       "2001-05-09    0.585882\n",
       "2001-05-10   -0.861856\n",
       "2001-05-11   -1.734067\n",
       "2001-05-12   -1.663723\n",
       "2001-05-13    0.972995\n",
       "2001-05-14   -0.607681\n",
       "2001-05-15   -0.948580\n",
       "2001-05-16   -0.340739\n",
       "2001-05-17    0.712492\n",
       "2001-05-18    1.977510\n",
       "2001-05-19    0.279836\n",
       "2001-05-20    0.177058\n",
       "2001-05-21   -0.097214\n",
       "2001-05-22    0.812444\n",
       "2001-05-23    0.075367\n",
       "2001-05-24    2.391539\n",
       "2001-05-25   -0.012099\n",
       "2001-05-26    1.409958\n",
       "2001-05-27   -1.070779\n",
       "2001-05-28   -0.702721\n",
       "2001-05-29   -0.665207\n",
       "2001-05-30   -0.868401\n",
       "2001-05-31    0.123953\n",
       "Freq: D, dtype: float64"
      ]
     },
     "execution_count": 21,
     "metadata": {},
     "output_type": "execute_result"
    }
   ],
   "source": [
    "longer_ts['2001-05']"
   ]
  },
  {
   "cell_type": "code",
   "execution_count": 29,
   "metadata": {},
   "outputs": [
    {
     "data": {
      "text/plain": [
       "DatetimeIndex(['2011-01-05', '2011-01-07'], dtype='datetime64[ns]', freq=None)"
      ]
     },
     "execution_count": 29,
     "metadata": {},
     "output_type": "execute_result"
    }
   ],
   "source": [
    "ts.index[1:]\n",
    "#ts"
   ]
  },
  {
   "cell_type": "code",
   "execution_count": null,
   "metadata": {},
   "outputs": [],
   "source": [
    "ts"
   ]
  },
  {
   "cell_type": "code",
   "execution_count": 27,
   "metadata": {},
   "outputs": [
    {
     "ename": "TypeError",
     "evalue": "'float' object is not callable",
     "output_type": "error",
     "traceback": [
      "\u001b[1;31m---------------------------------------------------------------------------\u001b[0m",
      "\u001b[1;31mTypeError\u001b[0m                                 Traceback (most recent call last)",
      "\u001b[1;32m<ipython-input-27-e461ad8920c6>\u001b[0m in \u001b[0;36m<module>\u001b[1;34m\u001b[0m\n\u001b[1;32m----> 1\u001b[1;33m \u001b[0mts\u001b[0m\u001b[1;33m[\u001b[0m\u001b[0mdatetime\u001b[0m\u001b[1;33m(\u001b[0m\u001b[1;36m2011\u001b[0m\u001b[1;33m,\u001b[0m \u001b[1;36m1\u001b[0m\u001b[1;33m,\u001b[0m \u001b[1;36m2\u001b[0m\u001b[1;33m)\u001b[0m\u001b[1;33m:\u001b[0m\u001b[1;33m]\u001b[0m\u001b[1;33m\u001b[0m\u001b[1;33m\u001b[0m\u001b[0m\n\u001b[0m",
      "\u001b[1;31mTypeError\u001b[0m: 'float' object is not callable"
     ]
    }
   ],
   "source": [
    "ts[datetime(2011, 1, 2):]"
   ]
  },
  {
   "cell_type": "code",
   "execution_count": 30,
   "metadata": {},
   "outputs": [
    {
     "data": {
      "text/plain": [
       "2011-01-05   -0.440725\n",
       "2011-01-07    1.325655\n",
       "dtype: float64"
      ]
     },
     "execution_count": 30,
     "metadata": {},
     "output_type": "execute_result"
    }
   ],
   "source": [
    "ts['2011, 1, 5':'2011-01-12']"
   ]
  },
  {
   "cell_type": "code",
   "execution_count": 31,
   "metadata": {},
   "outputs": [
    {
     "data": {
      "text/plain": [
       "DatetimeIndex(['2000-01-31', '2000-02-29', '2000-03-31', '2000-04-28',\n",
       "               '2000-05-31', '2000-06-30', '2000-07-31', '2000-08-31',\n",
       "               '2000-09-29', '2000-10-31', '2000-11-30', '2000-12-29'],\n",
       "              dtype='datetime64[ns]', freq='BM')"
      ]
     },
     "execution_count": 31,
     "metadata": {},
     "output_type": "execute_result"
    }
   ],
   "source": [
    "pd.date_range('2000-01-01','2001-01-01',freq=\"BM\")"
   ]
  },
  {
   "cell_type": "code",
   "execution_count": 35,
   "metadata": {},
   "outputs": [],
   "source": [
    "dates=pd.date_range('1/1/2019',periods=100, freq='W-WED')"
   ]
  },
  {
   "cell_type": "code",
   "execution_count": 39,
   "metadata": {},
   "outputs": [
    {
     "data": {
      "text/html": [
       "<div>\n",
       "<style scoped>\n",
       "    .dataframe tbody tr th:only-of-type {\n",
       "        vertical-align: middle;\n",
       "    }\n",
       "\n",
       "    .dataframe tbody tr th {\n",
       "        vertical-align: top;\n",
       "    }\n",
       "\n",
       "    .dataframe thead th {\n",
       "        text-align: right;\n",
       "    }\n",
       "</style>\n",
       "<table border=\"1\" class=\"dataframe\">\n",
       "  <thead>\n",
       "    <tr style=\"text-align: right;\">\n",
       "      <th></th>\n",
       "      <th>Colorado</th>\n",
       "      <th>Texas</th>\n",
       "      <th>New Yark</th>\n",
       "      <th>Ohio</th>\n",
       "    </tr>\n",
       "  </thead>\n",
       "  <tbody>\n",
       "    <tr>\n",
       "      <th>2019-01-02</th>\n",
       "      <td>-1.001966</td>\n",
       "      <td>0.366723</td>\n",
       "      <td>0.940784</td>\n",
       "      <td>0.007808</td>\n",
       "    </tr>\n",
       "    <tr>\n",
       "      <th>2019-01-09</th>\n",
       "      <td>0.414085</td>\n",
       "      <td>0.168423</td>\n",
       "      <td>1.364644</td>\n",
       "      <td>0.534320</td>\n",
       "    </tr>\n",
       "    <tr>\n",
       "      <th>2019-01-16</th>\n",
       "      <td>1.493719</td>\n",
       "      <td>1.503798</td>\n",
       "      <td>-1.044266</td>\n",
       "      <td>0.679792</td>\n",
       "    </tr>\n",
       "    <tr>\n",
       "      <th>2019-01-23</th>\n",
       "      <td>1.172938</td>\n",
       "      <td>0.395014</td>\n",
       "      <td>0.188488</td>\n",
       "      <td>-0.834716</td>\n",
       "    </tr>\n",
       "    <tr>\n",
       "      <th>2019-01-30</th>\n",
       "      <td>-0.589473</td>\n",
       "      <td>-1.515083</td>\n",
       "      <td>-0.145825</td>\n",
       "      <td>-1.269775</td>\n",
       "    </tr>\n",
       "    <tr>\n",
       "      <th>2019-02-06</th>\n",
       "      <td>0.796127</td>\n",
       "      <td>0.651374</td>\n",
       "      <td>-1.439343</td>\n",
       "      <td>-0.373383</td>\n",
       "    </tr>\n",
       "    <tr>\n",
       "      <th>2019-02-13</th>\n",
       "      <td>-0.189611</td>\n",
       "      <td>2.770498</td>\n",
       "      <td>-0.765281</td>\n",
       "      <td>1.011312</td>\n",
       "    </tr>\n",
       "    <tr>\n",
       "      <th>2019-02-20</th>\n",
       "      <td>0.051414</td>\n",
       "      <td>-0.891745</td>\n",
       "      <td>-0.971839</td>\n",
       "      <td>1.440667</td>\n",
       "    </tr>\n",
       "    <tr>\n",
       "      <th>2019-02-27</th>\n",
       "      <td>0.155752</td>\n",
       "      <td>-0.493982</td>\n",
       "      <td>1.584051</td>\n",
       "      <td>0.503622</td>\n",
       "    </tr>\n",
       "    <tr>\n",
       "      <th>2019-03-06</th>\n",
       "      <td>-1.108599</td>\n",
       "      <td>-1.709629</td>\n",
       "      <td>0.230098</td>\n",
       "      <td>0.291470</td>\n",
       "    </tr>\n",
       "    <tr>\n",
       "      <th>2019-03-13</th>\n",
       "      <td>-1.474940</td>\n",
       "      <td>0.995332</td>\n",
       "      <td>1.611247</td>\n",
       "      <td>0.392754</td>\n",
       "    </tr>\n",
       "    <tr>\n",
       "      <th>2019-03-20</th>\n",
       "      <td>-1.194126</td>\n",
       "      <td>0.202741</td>\n",
       "      <td>-0.406762</td>\n",
       "      <td>1.773634</td>\n",
       "    </tr>\n",
       "    <tr>\n",
       "      <th>2019-03-27</th>\n",
       "      <td>2.271444</td>\n",
       "      <td>-0.483036</td>\n",
       "      <td>1.484544</td>\n",
       "      <td>-1.416521</td>\n",
       "    </tr>\n",
       "    <tr>\n",
       "      <th>2019-04-03</th>\n",
       "      <td>-1.054181</td>\n",
       "      <td>0.703838</td>\n",
       "      <td>-0.463378</td>\n",
       "      <td>0.287586</td>\n",
       "    </tr>\n",
       "    <tr>\n",
       "      <th>2019-04-10</th>\n",
       "      <td>1.984194</td>\n",
       "      <td>-1.339830</td>\n",
       "      <td>1.273013</td>\n",
       "      <td>2.564051</td>\n",
       "    </tr>\n",
       "    <tr>\n",
       "      <th>2019-04-17</th>\n",
       "      <td>-0.637653</td>\n",
       "      <td>1.850274</td>\n",
       "      <td>0.301270</td>\n",
       "      <td>-0.163137</td>\n",
       "    </tr>\n",
       "    <tr>\n",
       "      <th>2019-04-24</th>\n",
       "      <td>1.557886</td>\n",
       "      <td>-2.475997</td>\n",
       "      <td>-0.820216</td>\n",
       "      <td>-1.904221</td>\n",
       "    </tr>\n",
       "    <tr>\n",
       "      <th>2019-05-01</th>\n",
       "      <td>-0.949430</td>\n",
       "      <td>0.858372</td>\n",
       "      <td>0.225667</td>\n",
       "      <td>0.332374</td>\n",
       "    </tr>\n",
       "    <tr>\n",
       "      <th>2019-05-08</th>\n",
       "      <td>1.237801</td>\n",
       "      <td>1.093325</td>\n",
       "      <td>-0.878239</td>\n",
       "      <td>0.909095</td>\n",
       "    </tr>\n",
       "    <tr>\n",
       "      <th>2019-05-15</th>\n",
       "      <td>-0.374598</td>\n",
       "      <td>-0.135402</td>\n",
       "      <td>-2.271537</td>\n",
       "      <td>0.130427</td>\n",
       "    </tr>\n",
       "    <tr>\n",
       "      <th>2019-05-22</th>\n",
       "      <td>0.694035</td>\n",
       "      <td>1.205241</td>\n",
       "      <td>1.200090</td>\n",
       "      <td>1.498875</td>\n",
       "    </tr>\n",
       "    <tr>\n",
       "      <th>2019-05-29</th>\n",
       "      <td>0.660577</td>\n",
       "      <td>-2.306612</td>\n",
       "      <td>1.385655</td>\n",
       "      <td>-0.479784</td>\n",
       "    </tr>\n",
       "    <tr>\n",
       "      <th>2019-06-05</th>\n",
       "      <td>-1.251030</td>\n",
       "      <td>-0.825514</td>\n",
       "      <td>-0.888173</td>\n",
       "      <td>1.707518</td>\n",
       "    </tr>\n",
       "    <tr>\n",
       "      <th>2019-06-12</th>\n",
       "      <td>-0.285485</td>\n",
       "      <td>0.858713</td>\n",
       "      <td>-0.404299</td>\n",
       "      <td>1.335287</td>\n",
       "    </tr>\n",
       "    <tr>\n",
       "      <th>2019-06-19</th>\n",
       "      <td>0.174967</td>\n",
       "      <td>-0.643215</td>\n",
       "      <td>0.212475</td>\n",
       "      <td>-1.256030</td>\n",
       "    </tr>\n",
       "    <tr>\n",
       "      <th>2019-06-26</th>\n",
       "      <td>1.293876</td>\n",
       "      <td>0.013351</td>\n",
       "      <td>0.310701</td>\n",
       "      <td>0.610139</td>\n",
       "    </tr>\n",
       "    <tr>\n",
       "      <th>2019-07-03</th>\n",
       "      <td>-0.150559</td>\n",
       "      <td>-2.120913</td>\n",
       "      <td>0.750083</td>\n",
       "      <td>-0.139452</td>\n",
       "    </tr>\n",
       "    <tr>\n",
       "      <th>2019-07-10</th>\n",
       "      <td>-1.669392</td>\n",
       "      <td>1.461511</td>\n",
       "      <td>-1.057008</td>\n",
       "      <td>0.061547</td>\n",
       "    </tr>\n",
       "    <tr>\n",
       "      <th>2019-07-17</th>\n",
       "      <td>-0.349287</td>\n",
       "      <td>-1.788465</td>\n",
       "      <td>1.304995</td>\n",
       "      <td>0.378103</td>\n",
       "    </tr>\n",
       "    <tr>\n",
       "      <th>2019-07-24</th>\n",
       "      <td>-1.830042</td>\n",
       "      <td>0.290640</td>\n",
       "      <td>-0.123666</td>\n",
       "      <td>-1.032071</td>\n",
       "    </tr>\n",
       "    <tr>\n",
       "      <th>...</th>\n",
       "      <td>...</td>\n",
       "      <td>...</td>\n",
       "      <td>...</td>\n",
       "      <td>...</td>\n",
       "    </tr>\n",
       "    <tr>\n",
       "      <th>2020-05-06</th>\n",
       "      <td>0.030867</td>\n",
       "      <td>-0.924195</td>\n",
       "      <td>1.822251</td>\n",
       "      <td>0.600198</td>\n",
       "    </tr>\n",
       "    <tr>\n",
       "      <th>2020-05-13</th>\n",
       "      <td>2.498270</td>\n",
       "      <td>0.694925</td>\n",
       "      <td>1.985586</td>\n",
       "      <td>-1.312268</td>\n",
       "    </tr>\n",
       "    <tr>\n",
       "      <th>2020-05-20</th>\n",
       "      <td>1.095164</td>\n",
       "      <td>0.442926</td>\n",
       "      <td>0.603371</td>\n",
       "      <td>-0.348701</td>\n",
       "    </tr>\n",
       "    <tr>\n",
       "      <th>2020-05-27</th>\n",
       "      <td>0.430267</td>\n",
       "      <td>0.056481</td>\n",
       "      <td>0.953617</td>\n",
       "      <td>-0.229934</td>\n",
       "    </tr>\n",
       "    <tr>\n",
       "      <th>2020-06-03</th>\n",
       "      <td>0.584928</td>\n",
       "      <td>0.548272</td>\n",
       "      <td>0.222740</td>\n",
       "      <td>0.997036</td>\n",
       "    </tr>\n",
       "    <tr>\n",
       "      <th>2020-06-10</th>\n",
       "      <td>-1.070911</td>\n",
       "      <td>-1.169786</td>\n",
       "      <td>-1.825878</td>\n",
       "      <td>1.446744</td>\n",
       "    </tr>\n",
       "    <tr>\n",
       "      <th>2020-06-17</th>\n",
       "      <td>-0.320659</td>\n",
       "      <td>-0.429036</td>\n",
       "      <td>-0.287766</td>\n",
       "      <td>-0.962857</td>\n",
       "    </tr>\n",
       "    <tr>\n",
       "      <th>2020-06-24</th>\n",
       "      <td>-0.157433</td>\n",
       "      <td>-0.742393</td>\n",
       "      <td>-1.192380</td>\n",
       "      <td>1.093906</td>\n",
       "    </tr>\n",
       "    <tr>\n",
       "      <th>2020-07-01</th>\n",
       "      <td>0.963579</td>\n",
       "      <td>0.236738</td>\n",
       "      <td>-1.150614</td>\n",
       "      <td>-0.098646</td>\n",
       "    </tr>\n",
       "    <tr>\n",
       "      <th>2020-07-08</th>\n",
       "      <td>-0.642133</td>\n",
       "      <td>-2.022279</td>\n",
       "      <td>0.895302</td>\n",
       "      <td>0.030965</td>\n",
       "    </tr>\n",
       "    <tr>\n",
       "      <th>2020-07-15</th>\n",
       "      <td>-0.785283</td>\n",
       "      <td>0.996499</td>\n",
       "      <td>-0.997672</td>\n",
       "      <td>-0.747655</td>\n",
       "    </tr>\n",
       "    <tr>\n",
       "      <th>2020-07-22</th>\n",
       "      <td>0.491296</td>\n",
       "      <td>0.318447</td>\n",
       "      <td>-0.481681</td>\n",
       "      <td>-0.627189</td>\n",
       "    </tr>\n",
       "    <tr>\n",
       "      <th>2020-07-29</th>\n",
       "      <td>0.947168</td>\n",
       "      <td>-2.027679</td>\n",
       "      <td>-0.702935</td>\n",
       "      <td>-1.162107</td>\n",
       "    </tr>\n",
       "    <tr>\n",
       "      <th>2020-08-05</th>\n",
       "      <td>-0.846379</td>\n",
       "      <td>1.778300</td>\n",
       "      <td>-0.909026</td>\n",
       "      <td>1.239255</td>\n",
       "    </tr>\n",
       "    <tr>\n",
       "      <th>2020-08-12</th>\n",
       "      <td>0.027798</td>\n",
       "      <td>0.296207</td>\n",
       "      <td>0.157166</td>\n",
       "      <td>1.425255</td>\n",
       "    </tr>\n",
       "    <tr>\n",
       "      <th>2020-08-19</th>\n",
       "      <td>0.241050</td>\n",
       "      <td>0.463470</td>\n",
       "      <td>1.157258</td>\n",
       "      <td>-0.538842</td>\n",
       "    </tr>\n",
       "    <tr>\n",
       "      <th>2020-08-26</th>\n",
       "      <td>0.230484</td>\n",
       "      <td>0.197559</td>\n",
       "      <td>0.497934</td>\n",
       "      <td>-0.608250</td>\n",
       "    </tr>\n",
       "    <tr>\n",
       "      <th>2020-09-02</th>\n",
       "      <td>0.112831</td>\n",
       "      <td>0.129310</td>\n",
       "      <td>0.224140</td>\n",
       "      <td>1.634012</td>\n",
       "    </tr>\n",
       "    <tr>\n",
       "      <th>2020-09-09</th>\n",
       "      <td>-0.384413</td>\n",
       "      <td>-0.005515</td>\n",
       "      <td>1.085310</td>\n",
       "      <td>-0.315154</td>\n",
       "    </tr>\n",
       "    <tr>\n",
       "      <th>2020-09-16</th>\n",
       "      <td>1.053757</td>\n",
       "      <td>0.307075</td>\n",
       "      <td>0.145772</td>\n",
       "      <td>0.331677</td>\n",
       "    </tr>\n",
       "    <tr>\n",
       "      <th>2020-09-23</th>\n",
       "      <td>-0.315464</td>\n",
       "      <td>0.663297</td>\n",
       "      <td>-0.286527</td>\n",
       "      <td>-1.058659</td>\n",
       "    </tr>\n",
       "    <tr>\n",
       "      <th>2020-09-30</th>\n",
       "      <td>-1.916435</td>\n",
       "      <td>0.403215</td>\n",
       "      <td>-0.306304</td>\n",
       "      <td>1.745860</td>\n",
       "    </tr>\n",
       "    <tr>\n",
       "      <th>2020-10-07</th>\n",
       "      <td>2.023060</td>\n",
       "      <td>0.341703</td>\n",
       "      <td>-1.289342</td>\n",
       "      <td>-0.301480</td>\n",
       "    </tr>\n",
       "    <tr>\n",
       "      <th>2020-10-14</th>\n",
       "      <td>-0.554327</td>\n",
       "      <td>0.837171</td>\n",
       "      <td>-0.341809</td>\n",
       "      <td>0.757484</td>\n",
       "    </tr>\n",
       "    <tr>\n",
       "      <th>2020-10-21</th>\n",
       "      <td>0.824277</td>\n",
       "      <td>-2.008698</td>\n",
       "      <td>-1.030200</td>\n",
       "      <td>-0.086126</td>\n",
       "    </tr>\n",
       "    <tr>\n",
       "      <th>2020-10-28</th>\n",
       "      <td>0.502969</td>\n",
       "      <td>0.138281</td>\n",
       "      <td>-0.058150</td>\n",
       "      <td>1.447163</td>\n",
       "    </tr>\n",
       "    <tr>\n",
       "      <th>2020-11-04</th>\n",
       "      <td>1.019790</td>\n",
       "      <td>-1.156016</td>\n",
       "      <td>0.476456</td>\n",
       "      <td>-0.103258</td>\n",
       "    </tr>\n",
       "    <tr>\n",
       "      <th>2020-11-11</th>\n",
       "      <td>-0.197353</td>\n",
       "      <td>0.783858</td>\n",
       "      <td>0.048748</td>\n",
       "      <td>0.781156</td>\n",
       "    </tr>\n",
       "    <tr>\n",
       "      <th>2020-11-18</th>\n",
       "      <td>0.358310</td>\n",
       "      <td>-0.662577</td>\n",
       "      <td>-0.270139</td>\n",
       "      <td>-0.176230</td>\n",
       "    </tr>\n",
       "    <tr>\n",
       "      <th>2020-11-25</th>\n",
       "      <td>-0.034875</td>\n",
       "      <td>-0.392883</td>\n",
       "      <td>-0.198764</td>\n",
       "      <td>-0.095307</td>\n",
       "    </tr>\n",
       "  </tbody>\n",
       "</table>\n",
       "<p>100 rows × 4 columns</p>\n",
       "</div>"
      ],
      "text/plain": [
       "            Colorado     Texas  New Yark      Ohio\n",
       "2019-01-02 -1.001966  0.366723  0.940784  0.007808\n",
       "2019-01-09  0.414085  0.168423  1.364644  0.534320\n",
       "2019-01-16  1.493719  1.503798 -1.044266  0.679792\n",
       "2019-01-23  1.172938  0.395014  0.188488 -0.834716\n",
       "2019-01-30 -0.589473 -1.515083 -0.145825 -1.269775\n",
       "2019-02-06  0.796127  0.651374 -1.439343 -0.373383\n",
       "2019-02-13 -0.189611  2.770498 -0.765281  1.011312\n",
       "2019-02-20  0.051414 -0.891745 -0.971839  1.440667\n",
       "2019-02-27  0.155752 -0.493982  1.584051  0.503622\n",
       "2019-03-06 -1.108599 -1.709629  0.230098  0.291470\n",
       "2019-03-13 -1.474940  0.995332  1.611247  0.392754\n",
       "2019-03-20 -1.194126  0.202741 -0.406762  1.773634\n",
       "2019-03-27  2.271444 -0.483036  1.484544 -1.416521\n",
       "2019-04-03 -1.054181  0.703838 -0.463378  0.287586\n",
       "2019-04-10  1.984194 -1.339830  1.273013  2.564051\n",
       "2019-04-17 -0.637653  1.850274  0.301270 -0.163137\n",
       "2019-04-24  1.557886 -2.475997 -0.820216 -1.904221\n",
       "2019-05-01 -0.949430  0.858372  0.225667  0.332374\n",
       "2019-05-08  1.237801  1.093325 -0.878239  0.909095\n",
       "2019-05-15 -0.374598 -0.135402 -2.271537  0.130427\n",
       "2019-05-22  0.694035  1.205241  1.200090  1.498875\n",
       "2019-05-29  0.660577 -2.306612  1.385655 -0.479784\n",
       "2019-06-05 -1.251030 -0.825514 -0.888173  1.707518\n",
       "2019-06-12 -0.285485  0.858713 -0.404299  1.335287\n",
       "2019-06-19  0.174967 -0.643215  0.212475 -1.256030\n",
       "2019-06-26  1.293876  0.013351  0.310701  0.610139\n",
       "2019-07-03 -0.150559 -2.120913  0.750083 -0.139452\n",
       "2019-07-10 -1.669392  1.461511 -1.057008  0.061547\n",
       "2019-07-17 -0.349287 -1.788465  1.304995  0.378103\n",
       "2019-07-24 -1.830042  0.290640 -0.123666 -1.032071\n",
       "...              ...       ...       ...       ...\n",
       "2020-05-06  0.030867 -0.924195  1.822251  0.600198\n",
       "2020-05-13  2.498270  0.694925  1.985586 -1.312268\n",
       "2020-05-20  1.095164  0.442926  0.603371 -0.348701\n",
       "2020-05-27  0.430267  0.056481  0.953617 -0.229934\n",
       "2020-06-03  0.584928  0.548272  0.222740  0.997036\n",
       "2020-06-10 -1.070911 -1.169786 -1.825878  1.446744\n",
       "2020-06-17 -0.320659 -0.429036 -0.287766 -0.962857\n",
       "2020-06-24 -0.157433 -0.742393 -1.192380  1.093906\n",
       "2020-07-01  0.963579  0.236738 -1.150614 -0.098646\n",
       "2020-07-08 -0.642133 -2.022279  0.895302  0.030965\n",
       "2020-07-15 -0.785283  0.996499 -0.997672 -0.747655\n",
       "2020-07-22  0.491296  0.318447 -0.481681 -0.627189\n",
       "2020-07-29  0.947168 -2.027679 -0.702935 -1.162107\n",
       "2020-08-05 -0.846379  1.778300 -0.909026  1.239255\n",
       "2020-08-12  0.027798  0.296207  0.157166  1.425255\n",
       "2020-08-19  0.241050  0.463470  1.157258 -0.538842\n",
       "2020-08-26  0.230484  0.197559  0.497934 -0.608250\n",
       "2020-09-02  0.112831  0.129310  0.224140  1.634012\n",
       "2020-09-09 -0.384413 -0.005515  1.085310 -0.315154\n",
       "2020-09-16  1.053757  0.307075  0.145772  0.331677\n",
       "2020-09-23 -0.315464  0.663297 -0.286527 -1.058659\n",
       "2020-09-30 -1.916435  0.403215 -0.306304  1.745860\n",
       "2020-10-07  2.023060  0.341703 -1.289342 -0.301480\n",
       "2020-10-14 -0.554327  0.837171 -0.341809  0.757484\n",
       "2020-10-21  0.824277 -2.008698 -1.030200 -0.086126\n",
       "2020-10-28  0.502969  0.138281 -0.058150  1.447163\n",
       "2020-11-04  1.019790 -1.156016  0.476456 -0.103258\n",
       "2020-11-11 -0.197353  0.783858  0.048748  0.781156\n",
       "2020-11-18  0.358310 -0.662577 -0.270139 -0.176230\n",
       "2020-11-25 -0.034875 -0.392883 -0.198764 -0.095307\n",
       "\n",
       "[100 rows x 4 columns]"
      ]
     },
     "execution_count": 39,
     "metadata": {},
     "output_type": "execute_result"
    }
   ],
   "source": [
    "longer_df=pd.DataFrame(np.random.randn(100, 4),index=dates, columns=['Colorado','Texas','New Yark','Ohio'])\n",
    "longer_df"
   ]
  },
  {
   "cell_type": "code",
   "execution_count": 40,
   "metadata": {},
   "outputs": [
    {
     "data": {
      "text/html": [
       "<div>\n",
       "<style scoped>\n",
       "    .dataframe tbody tr th:only-of-type {\n",
       "        vertical-align: middle;\n",
       "    }\n",
       "\n",
       "    .dataframe tbody tr th {\n",
       "        vertical-align: top;\n",
       "    }\n",
       "\n",
       "    .dataframe thead th {\n",
       "        text-align: right;\n",
       "    }\n",
       "</style>\n",
       "<table border=\"1\" class=\"dataframe\">\n",
       "  <thead>\n",
       "    <tr style=\"text-align: right;\">\n",
       "      <th></th>\n",
       "      <th>Colorado</th>\n",
       "      <th>Texas</th>\n",
       "      <th>New Yark</th>\n",
       "      <th>Ohio</th>\n",
       "    </tr>\n",
       "  </thead>\n",
       "  <tbody>\n",
       "    <tr>\n",
       "      <th>2019-05-01</th>\n",
       "      <td>-0.949430</td>\n",
       "      <td>0.858372</td>\n",
       "      <td>0.225667</td>\n",
       "      <td>0.332374</td>\n",
       "    </tr>\n",
       "    <tr>\n",
       "      <th>2019-05-08</th>\n",
       "      <td>1.237801</td>\n",
       "      <td>1.093325</td>\n",
       "      <td>-0.878239</td>\n",
       "      <td>0.909095</td>\n",
       "    </tr>\n",
       "    <tr>\n",
       "      <th>2019-05-15</th>\n",
       "      <td>-0.374598</td>\n",
       "      <td>-0.135402</td>\n",
       "      <td>-2.271537</td>\n",
       "      <td>0.130427</td>\n",
       "    </tr>\n",
       "    <tr>\n",
       "      <th>2019-05-22</th>\n",
       "      <td>0.694035</td>\n",
       "      <td>1.205241</td>\n",
       "      <td>1.200090</td>\n",
       "      <td>1.498875</td>\n",
       "    </tr>\n",
       "    <tr>\n",
       "      <th>2019-05-29</th>\n",
       "      <td>0.660577</td>\n",
       "      <td>-2.306612</td>\n",
       "      <td>1.385655</td>\n",
       "      <td>-0.479784</td>\n",
       "    </tr>\n",
       "  </tbody>\n",
       "</table>\n",
       "</div>"
      ],
      "text/plain": [
       "            Colorado     Texas  New Yark      Ohio\n",
       "2019-05-01 -0.949430  0.858372  0.225667  0.332374\n",
       "2019-05-08  1.237801  1.093325 -0.878239  0.909095\n",
       "2019-05-15 -0.374598 -0.135402 -2.271537  0.130427\n",
       "2019-05-22  0.694035  1.205241  1.200090  1.498875\n",
       "2019-05-29  0.660577 -2.306612  1.385655 -0.479784"
      ]
     },
     "execution_count": 40,
     "metadata": {},
     "output_type": "execute_result"
    }
   ],
   "source": [
    "longer_df.loc['5-2019']"
   ]
  },
  {
   "cell_type": "code",
   "execution_count": 42,
   "metadata": {},
   "outputs": [
    {
     "data": {
      "text/plain": [
       "DatetimeIndex(['2000-01-01', '2000-02-01', '2000-03-01', '2000-04-01',\n",
       "               '2000-05-01'],\n",
       "              dtype='datetime64[ns]', freq=None)"
      ]
     },
     "execution_count": 42,
     "metadata": {},
     "output_type": "execute_result"
    }
   ],
   "source": [
    "dates=pd.DatetimeIndex(['1/1/2000','2/1/2000','3/1/2000','4/1/2000','5/1/2000'])\n",
    "dates"
   ]
  },
  {
   "cell_type": "code",
   "execution_count": 43,
   "metadata": {},
   "outputs": [
    {
     "data": {
      "text/plain": [
       "2000-01-01    0\n",
       "2000-02-01    1\n",
       "2000-03-01    2\n",
       "2000-04-01    3\n",
       "2000-05-01    4\n",
       "dtype: int32"
      ]
     },
     "execution_count": 43,
     "metadata": {},
     "output_type": "execute_result"
    }
   ],
   "source": [
    "dup_ts=pd.Series(np.arange(5), index=dates)\n",
    "dup_ts"
   ]
  },
  {
   "cell_type": "code",
   "execution_count": 44,
   "metadata": {},
   "outputs": [
    {
     "data": {
      "text/plain": [
       "True"
      ]
     },
     "execution_count": 44,
     "metadata": {},
     "output_type": "execute_result"
    }
   ],
   "source": [
    "dup_ts.index.is_unique"
   ]
  },
  {
   "cell_type": "code",
   "execution_count": 51,
   "metadata": {},
   "outputs": [
    {
     "data": {
      "text/plain": [
       "0"
      ]
     },
     "execution_count": 51,
     "metadata": {},
     "output_type": "execute_result"
    }
   ],
   "source": [
    "dup_ts['1/1/2000']"
   ]
  },
  {
   "cell_type": "code",
   "execution_count": 52,
   "metadata": {},
   "outputs": [],
   "source": [
    "grouped=dup_ts.groupby(level=0)"
   ]
  },
  {
   "cell_type": "code",
   "execution_count": 53,
   "metadata": {},
   "outputs": [
    {
     "data": {
      "text/plain": [
       "2000-01-01    0\n",
       "2000-02-01    1\n",
       "2000-03-01    2\n",
       "2000-04-01    3\n",
       "2000-05-01    4\n",
       "dtype: int32"
      ]
     },
     "execution_count": 53,
     "metadata": {},
     "output_type": "execute_result"
    }
   ],
   "source": [
    "grouped.mean()"
   ]
  },
  {
   "cell_type": "code",
   "execution_count": 54,
   "metadata": {},
   "outputs": [
    {
     "data": {
      "text/plain": [
       "2000-01-01    1\n",
       "2000-02-01    1\n",
       "2000-03-01    1\n",
       "2000-04-01    1\n",
       "2000-05-01    1\n",
       "dtype: int64"
      ]
     },
     "execution_count": 54,
     "metadata": {},
     "output_type": "execute_result"
    }
   ],
   "source": [
    "grouped.count()"
   ]
  },
  {
   "cell_type": "code",
   "execution_count": 55,
   "metadata": {},
   "outputs": [
    {
     "data": {
      "text/plain": [
       "2011-01-02   -0.653413\n",
       "2011-01-05   -0.440725\n",
       "2011-01-07    1.325655\n",
       "dtype: float64"
      ]
     },
     "execution_count": 55,
     "metadata": {},
     "output_type": "execute_result"
    }
   ],
   "source": [
    "ts"
   ]
  },
  {
   "cell_type": "code",
   "execution_count": 56,
   "metadata": {},
   "outputs": [],
   "source": [
    "index=pd.date_range('2012-04-01','2012-06-01')"
   ]
  },
  {
   "cell_type": "code",
   "execution_count": 57,
   "metadata": {},
   "outputs": [
    {
     "data": {
      "text/plain": [
       "DatetimeIndex(['2012-04-01', '2012-04-02', '2012-04-03', '2012-04-04',\n",
       "               '2012-04-05', '2012-04-06', '2012-04-07', '2012-04-08',\n",
       "               '2012-04-09', '2012-04-10', '2012-04-11', '2012-04-12',\n",
       "               '2012-04-13', '2012-04-14', '2012-04-15', '2012-04-16',\n",
       "               '2012-04-17', '2012-04-18', '2012-04-19', '2012-04-20',\n",
       "               '2012-04-21', '2012-04-22', '2012-04-23', '2012-04-24',\n",
       "               '2012-04-25', '2012-04-26', '2012-04-27', '2012-04-28',\n",
       "               '2012-04-29', '2012-04-30', '2012-05-01', '2012-05-02',\n",
       "               '2012-05-03', '2012-05-04', '2012-05-05', '2012-05-06',\n",
       "               '2012-05-07', '2012-05-08', '2012-05-09', '2012-05-10',\n",
       "               '2012-05-11', '2012-05-12', '2012-05-13', '2012-05-14',\n",
       "               '2012-05-15', '2012-05-16', '2012-05-17', '2012-05-18',\n",
       "               '2012-05-19', '2012-05-20', '2012-05-21', '2012-05-22',\n",
       "               '2012-05-23', '2012-05-24', '2012-05-25', '2012-05-26',\n",
       "               '2012-05-27', '2012-05-28', '2012-05-29', '2012-05-30',\n",
       "               '2012-05-31', '2012-06-01'],\n",
       "              dtype='datetime64[ns]', freq='D')"
      ]
     },
     "execution_count": 57,
     "metadata": {},
     "output_type": "execute_result"
    }
   ],
   "source": [
    "index\n"
   ]
  },
  {
   "cell_type": "code",
   "execution_count": 58,
   "metadata": {},
   "outputs": [
    {
     "data": {
      "text/plain": [
       "DatetimeIndex(['2012-04-01', '2012-04-02', '2012-04-03', '2012-04-04',\n",
       "               '2012-04-05', '2012-04-06', '2012-04-07', '2012-04-08',\n",
       "               '2012-04-09', '2012-04-10', '2012-04-11', '2012-04-12',\n",
       "               '2012-04-13', '2012-04-14', '2012-04-15', '2012-04-16',\n",
       "               '2012-04-17', '2012-04-18', '2012-04-19', '2012-04-20',\n",
       "               '2012-04-21', '2012-04-22', '2012-04-23', '2012-04-24',\n",
       "               '2012-04-25', '2012-04-26', '2012-04-27', '2012-04-28',\n",
       "               '2012-04-29', '2012-04-30', '2012-05-01', '2012-05-02',\n",
       "               '2012-05-03', '2012-05-04', '2012-05-05', '2012-05-06',\n",
       "               '2012-05-07', '2012-05-08', '2012-05-09', '2012-05-10',\n",
       "               '2012-05-11', '2012-05-12', '2012-05-13', '2012-05-14',\n",
       "               '2012-05-15', '2012-05-16', '2012-05-17', '2012-05-18',\n",
       "               '2012-05-19', '2012-05-20', '2012-05-21', '2012-05-22',\n",
       "               '2012-05-23', '2012-05-24', '2012-05-25', '2012-05-26',\n",
       "               '2012-05-27', '2012-05-28', '2012-05-29', '2012-05-30',\n",
       "               '2012-05-31', '2012-06-01'],\n",
       "              dtype='datetime64[ns]', freq='D')"
      ]
     },
     "execution_count": 58,
     "metadata": {},
     "output_type": "execute_result"
    }
   ],
   "source": [
    "pd.date_range(start='2012-04-01',end='2012-06-01')"
   ]
  },
  {
   "cell_type": "code",
   "execution_count": 61,
   "metadata": {},
   "outputs": [
    {
     "data": {
      "text/plain": [
       "DatetimeIndex(['2019-01-31', '2019-02-28', '2019-03-31', '2019-04-30',\n",
       "               '2019-05-31'],\n",
       "              dtype='datetime64[ns]', freq='M')"
      ]
     },
     "execution_count": 61,
     "metadata": {},
     "output_type": "execute_result"
    }
   ],
   "source": [
    "pd.date_range(start='1/1/2019',periods=5, freq='M')"
   ]
  },
  {
   "cell_type": "code",
   "execution_count": 62,
   "metadata": {},
   "outputs": [
    {
     "data": {
      "text/plain": [
       "DatetimeIndex(['2019-01-01', '2019-01-02', '2019-01-03', '2019-01-04',\n",
       "               '2019-01-05'],\n",
       "              dtype='datetime64[ns]', freq='D')"
      ]
     },
     "execution_count": 62,
     "metadata": {},
     "output_type": "execute_result"
    }
   ],
   "source": [
    "pd.date_range(start='1/1/2019',periods=5)"
   ]
  },
  {
   "cell_type": "code",
   "execution_count": 64,
   "metadata": {},
   "outputs": [
    {
     "data": {
      "text/plain": [
       "<Hour>"
      ]
     },
     "execution_count": 64,
     "metadata": {},
     "output_type": "execute_result"
    }
   ],
   "source": [
    "from pandas.tseries.offsets import Hour, Minute\n",
    "hour = Hour()\n",
    "hour"
   ]
  },
  {
   "cell_type": "code",
   "execution_count": 65,
   "metadata": {},
   "outputs": [
    {
     "data": {
      "text/plain": [
       "<4 * Hours>"
      ]
     },
     "execution_count": 65,
     "metadata": {},
     "output_type": "execute_result"
    }
   ],
   "source": [
    "_4hours=Hour(4)\n",
    "_4hours"
   ]
  },
  {
   "cell_type": "code",
   "execution_count": 66,
   "metadata": {},
   "outputs": [
    {
     "data": {
      "text/plain": [
       "DatetimeIndex(['2000-01-01 00:00:00', '2000-01-01 04:00:00',\n",
       "               '2000-01-01 08:00:00', '2000-01-01 12:00:00',\n",
       "               '2000-01-01 16:00:00', '2000-01-01 20:00:00',\n",
       "               '2000-01-02 00:00:00', '2000-01-02 04:00:00',\n",
       "               '2000-01-02 08:00:00', '2000-01-02 12:00:00',\n",
       "               '2000-01-02 16:00:00', '2000-01-02 20:00:00',\n",
       "               '2000-01-03 00:00:00', '2000-01-03 04:00:00',\n",
       "               '2000-01-03 08:00:00', '2000-01-03 12:00:00',\n",
       "               '2000-01-03 16:00:00', '2000-01-03 20:00:00'],\n",
       "              dtype='datetime64[ns]', freq='4H')"
      ]
     },
     "execution_count": 66,
     "metadata": {},
     "output_type": "execute_result"
    }
   ],
   "source": [
    "pd.date_range('2000-01-01','2000-01-03 23:59', freq='4H')"
   ]
  },
  {
   "cell_type": "code",
   "execution_count": 67,
   "metadata": {},
   "outputs": [
    {
     "data": {
      "text/plain": [
       "DatetimeIndex(['2000-01-01 00:00:00', '2000-01-01 01:30:00',\n",
       "               '2000-01-01 03:00:00', '2000-01-01 04:30:00',\n",
       "               '2000-01-01 06:00:00', '2000-01-01 07:30:00',\n",
       "               '2000-01-01 09:00:00', '2000-01-01 10:30:00',\n",
       "               '2000-01-01 12:00:00', '2000-01-01 13:30:00'],\n",
       "              dtype='datetime64[ns]', freq='90T')"
      ]
     },
     "execution_count": 67,
     "metadata": {},
     "output_type": "execute_result"
    }
   ],
   "source": [
    "pd.date_range('2000-01-01',periods=10, freq='1H30MIN')"
   ]
  },
  {
   "cell_type": "code",
   "execution_count": 68,
   "metadata": {},
   "outputs": [],
   "source": [
    "s=pd.date_range('2019-12-11',periods=10)"
   ]
  },
  {
   "cell_type": "code",
   "execution_count": 69,
   "metadata": {},
   "outputs": [
    {
     "name": "stdout",
     "output_type": "stream",
     "text": [
      "2 Wednesday\n",
      "3 Thursday\n",
      "4 Friday\n",
      "5 Saturday\n",
      "6 Sunday\n",
      "0 Monday\n",
      "1 Tuesday\n",
      "2 Wednesday\n",
      "3 Thursday\n",
      "4 Friday\n"
     ]
    },
    {
     "name": "stderr",
     "output_type": "stream",
     "text": [
      "C:\\Users\\kvsw12\\Anaconda3\\lib\\site-packages\\ipykernel_launcher.py:2: FutureWarning: `weekday_name` is deprecated and will be removed in a future version. Use `day_name` instead\n",
      "  \n"
     ]
    }
   ],
   "source": [
    "for day in s:\n",
    "    print(day.dayofweek,day.weekday_name)"
   ]
  },
  {
   "cell_type": "code",
   "execution_count": 70,
   "metadata": {},
   "outputs": [
    {
     "name": "stdout",
     "output_type": "stream",
     "text": [
      "2\n",
      "3\n",
      "4\n",
      "5\n",
      "6\n",
      "0\n",
      "1\n",
      "2\n",
      "3\n",
      "4\n"
     ]
    }
   ],
   "source": [
    "for day in s:\n",
    "    print(day.dayofweek)"
   ]
  },
  {
   "cell_type": "code",
   "execution_count": null,
   "metadata": {},
   "outputs": [],
   "source": []
  }
 ],
 "metadata": {
  "kernelspec": {
   "display_name": "Python 3",
   "language": "python",
   "name": "python3"
  },
  "language_info": {
   "codemirror_mode": {
    "name": "ipython",
    "version": 3
   },
   "file_extension": ".py",
   "mimetype": "text/x-python",
   "name": "python",
   "nbconvert_exporter": "python",
   "pygments_lexer": "ipython3",
   "version": "3.7.3"
  }
 },
 "nbformat": 4,
 "nbformat_minor": 2
}
