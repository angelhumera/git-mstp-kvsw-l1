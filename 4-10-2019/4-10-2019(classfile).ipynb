{
 "cells": [
  {
   "cell_type": "code",
   "execution_count": null,
   "metadata": {},
   "outputs": [],
   "source": [
    "#file modes\n",
    "#tell\n",
    "#seek\n",
    "#w+=write and read"
   ]
  },
  {
   "cell_type": "code",
   "execution_count": 39,
   "metadata": {},
   "outputs": [],
   "source": [
    "#filepath=\"file_operations.txt\"\n",
    "#file created\n",
    "def filewrite(filepath):\n",
    "    f=open(\"file_operations.txt\",\"w\")  #with open(file_ope,'w') as file:\n",
    "    f.write(\"jupyter notebook\\n\")         \n",
    "    f.close()\n",
    "filepath=\"file_operatiions.txt\"\n",
    "filewrite(filepath)\n"
   ]
  },
  {
   "cell_type": "code",
   "execution_count": 109,
   "metadata": {},
   "outputs": [
    {
     "name": "stdout",
     "output_type": "stream",
     "text": [
      "MADAM\n",
      "palindrome\n"
     ]
    }
   ],
   "source": [
    "#palindrome using function\n",
    "def palindrome(n):\n",
    "    s=input()\n",
    "    b=len(s)\n",
    "    a=\"\" \n",
    "    for i in range(1,b):\n",
    "        a=s[::-1]\n",
    "    if s==a:\n",
    "        print(\"palindrome\")\n",
    "    else:\n",
    "        print(\"not palindrome\")\n",
    "palindrome(n)"
   ]
  },
  {
   "cell_type": "code",
   "execution_count": 76,
   "metadata": {},
   "outputs": [
    {
     "name": "stdout",
     "output_type": "stream",
     "text": [
      "jupyter notebook\n",
      "\n",
      "yter notebook\n",
      "\n"
     ]
    }
   ],
   "source": [
    "#seek and tell will say the path\n",
    "x=open(\"file_operations.txt\",'r')\n",
    "print(x.read())                    # (tell) to find the position of curse\n",
    "x.seek(3)\n",
    "x.tell()\n",
    "print(x.read())\n",
    "#f1=f.read(15)\n",
    "#print(f1)\n",
    "#print(f.tell())\n",
    "#print(f.seek(2))\n",
    "#print(f2)\n",
    "#f.close()"
   ]
  },
  {
   "cell_type": "code",
   "execution_count": 70,
   "metadata": {},
   "outputs": [],
   "source": [
    "#file created agin\n",
    "def filewrite(filepath):\n",
    "    f=open(\"file.txt\",\"w\")  #with open(file_ope,'w') as file:\n",
    "    f.write(\"hello world how are you\\n\")         \n",
    "    f.close()\n",
    "filepath=\"file.txt\"\n",
    "filewrite(filepath)\n"
   ]
  },
  {
   "cell_type": "code",
   "execution_count": 72,
   "metadata": {},
   "outputs": [
    {
     "name": "stdout",
     "output_type": "stream",
     "text": [
      "hello\n",
      "5\n",
      "2\n",
      "hello\n"
     ]
    }
   ],
   "source": [
    "f=open(\"file.txt\",'r')\n",
    "f1=f.read(5)\n",
    "print(f1)\n",
    "print(f.tell())\n",
    "print(f.seek(2))\n",
    "print(f1)\n",
    "f.close()"
   ]
  },
  {
   "cell_type": "code",
   "execution_count": 85,
   "metadata": {},
   "outputs": [
    {
     "name": "stdout",
     "output_type": "stream",
     "text": [
      "rld is good\n"
     ]
    }
   ],
   "source": [
    "filepath=\"file_operations.txt\"\n",
    "def writeread(filepath):\n",
    "     with open(filepath,'w+') as f:\n",
    "        f.write(\"world is good\")\n",
    "        f.seek(2)\n",
    "        f1=f.read()\n",
    "        print(f1)\n",
    "writeread(filepath)\n",
    "        "
   ]
  },
  {
   "cell_type": "code",
   "execution_count": null,
   "metadata": {},
   "outputs": [],
   "source": []
  }
 ],
 "metadata": {
  "kernelspec": {
   "display_name": "Python 3",
   "language": "python",
   "name": "python3"
  },
  "language_info": {
   "codemirror_mode": {
    "name": "ipython",
    "version": 3
   },
   "file_extension": ".py",
   "mimetype": "text/x-python",
   "name": "python",
   "nbconvert_exporter": "python",
   "pygments_lexer": "ipython3",
   "version": "3.7.3"
  }
 },
 "nbformat": 4,
 "nbformat_minor": 2
}
