{
 "cells": [
  {
   "cell_type": "markdown",
   "metadata": {},
   "source": [
    "## Files handling in python:"
   ]
  },
  {
   "cell_type": "markdown",
   "metadata": {},
   "source": [
    "1. read\n",
    "2. write\n",
    "3. append\n",
    "4. readwrite---r+\n",
    "5. writeread---w+\n",
    "6. append&read--a+\n",
    "7. exclusive write---x"
   ]
  },
  {
   "cell_type": "markdown",
   "metadata": {},
   "source": [
    "# open:"
   ]
  },
  {
   "cell_type": "code",
   "execution_count": 2,
   "metadata": {},
   "outputs": [],
   "source": [
    "#file opening\n",
    "#file=open(\"sample.txt\",mode\")                                   # rigth mode can create a file"
   ]
  },
  {
   "cell_type": "code",
   "execution_count": 4,
   "metadata": {},
   "outputs": [],
   "source": [
    "# create a file and add some content\n",
    "f=open(\"data.txt\",'w')\n",
    "f.write(\"welcome\\n\")\n",
    "f.write(\"python\\n\")\n",
    "f.close()"
   ]
  },
  {
   "cell_type": "code",
   "execution_count": 5,
   "metadata": {},
   "outputs": [
    {
     "name": "stdout",
     "output_type": "stream",
     "text": [
      "welcome\n",
      "python\n",
      "\n"
     ]
    }
   ],
   "source": [
    "#print content of a file \n",
    "data=open(\"data.txt\",\"r\")\n",
    "al=data.read()\n",
    "print(al)\n",
    "data.close()"
   ]
  },
  {
   "cell_type": "code",
   "execution_count": 6,
   "metadata": {},
   "outputs": [
    {
     "name": "stdout",
     "output_type": "stream",
     "text": [
      "welcome\n",
      "python\n",
      "\n"
     ]
    }
   ],
   "source": [
    "def read_data(filepath):\n",
    "    filepath=open(\"data.txt\",\"r\")\n",
    "    a2=filepath.read()\n",
    "    print(a2)\n",
    "filepath=\"data.txt\"\n",
    "read_data(filepath)"
   ]
  },
  {
   "cell_type": "code",
   "execution_count": 7,
   "metadata": {},
   "outputs": [],
   "source": [
    "def append_data(fileappend):\n",
    "    file=open(\"data.txt\",\"a\")\n",
    "    file.write(\"appsdc mstp\\n\")\n",
    "fileappend=\"data.txt\"\n",
    "append_data(fileappend)"
   ]
  },
  {
   "cell_type": "code",
   "execution_count": 8,
   "metadata": {},
   "outputs": [
    {
     "name": "stdout",
     "output_type": "stream",
     "text": [
      "welcome\n",
      "python\n",
      "appsdc mstp\n",
      "\n"
     ]
    }
   ],
   "source": [
    "def read_filecontent(filepath):\n",
    "    filepath=open(\"data.txt\",\"r\")\n",
    "    f=filepath.read()\n",
    "    print(f)\n",
    "filepath=\"data.txt\"\n",
    "read_filecontent(filepath)"
   ]
  },
  {
   "cell_type": "code",
   "execution_count": 9,
   "metadata": {},
   "outputs": [
    {
     "name": "stdout",
     "output_type": "stream",
     "text": [
      "welcome\n",
      "\n"
     ]
    }
   ],
   "source": [
    "f=open(\"data.txt\",\"r\")\n",
    "x=f.readline()\n",
    "print(x)"
   ]
  },
  {
   "cell_type": "code",
   "execution_count": 10,
   "metadata": {},
   "outputs": [
    {
     "name": "stdout",
     "output_type": "stream",
     "text": [
      "welcome\n",
      "\n",
      "python\n",
      "\n",
      "appsdc mstp\n",
      "\n"
     ]
    }
   ],
   "source": [
    "f=open(\"data.txt\",\"r\")\n",
    "y=f.readlines()\n",
    "#print(y)\n",
    "for i in y:\n",
    "    print(i)"
   ]
  },
  {
   "cell_type": "code",
   "execution_count": 11,
   "metadata": {},
   "outputs": [
    {
     "name": "stdout",
     "output_type": "stream",
     "text": [
      "welcome\n",
      "\n",
      "python\n",
      "\n",
      "appsdc mstp\n",
      "\n"
     ]
    }
   ],
   "source": [
    "def element(file):\n",
    "    with open(\"data.txt\",\"r\") as file:\n",
    "        y=file.readlines()\n",
    "        for i in y:\n",
    "            print(i)\n",
    "file=\"data.txt\"\n",
    "element(file)"
   ]
  },
  {
   "cell_type": "code",
   "execution_count": 4,
   "metadata": {},
   "outputs": [
    {
     "name": "stdout",
     "output_type": "stream",
     "text": [
      "3\n"
     ]
    }
   ],
   "source": [
    "def lines_count(file):\n",
    "       with open(\"data.txt\",\"r\") as file:\n",
    "        lc=0\n",
    "        lines=file.readlines()\n",
    "        for i in lines:\n",
    "            lc=lc+1\n",
    "        print(lc)\n",
    "file=\"data.txt\"\n",
    "lines_count(file)"
   ]
  },
  {
   "cell_type": "code",
   "execution_count": 7,
   "metadata": {},
   "outputs": [
    {
     "name": "stdout",
     "output_type": "stream",
     "text": [
      "27\n"
     ]
    }
   ],
   "source": [
    "def character_count(file):\n",
    "    with open(\"data.txt\",\"r\") as file:\n",
    "        c=0\n",
    "        char=file.read()\n",
    "        for j in char:\n",
    "             c=c+1\n",
    "    print(c)\n",
    "file=\"data.txt\"\n",
    "character_count(file)\n",
    "            "
   ]
  },
  {
   "cell_type": "code",
   "execution_count": 8,
   "metadata": {},
   "outputs": [
    {
     "name": "stdout",
     "output_type": "stream",
     "text": [
      "27\n"
     ]
    }
   ],
   "source": [
    "def words_count(file):\n",
    "    with open(\"data.txt\",\"r\") as file:\n",
    "        a=file.read()\n",
    "        al=a.split()\n",
    "        print(len(a))\n",
    "file=\"data.txt\"\n",
    "words_count(file)"
   ]
  },
  {
   "cell_type": "code",
   "execution_count": null,
   "metadata": {},
   "outputs": [],
   "source": []
  }
 ],
 "metadata": {
  "kernelspec": {
   "display_name": "Python 3",
   "language": "python",
   "name": "python3"
  },
  "language_info": {
   "codemirror_mode": {
    "name": "ipython",
    "version": 3
   },
   "file_extension": ".py",
   "mimetype": "text/x-python",
   "name": "python",
   "nbconvert_exporter": "python",
   "pygments_lexer": "ipython3",
   "version": "3.7.3"
  }
 },
 "nbformat": 4,
 "nbformat_minor": 2
}
