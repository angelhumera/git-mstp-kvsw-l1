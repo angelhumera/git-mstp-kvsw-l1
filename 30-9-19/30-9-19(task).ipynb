{
 "cells": [
  {
   "cell_type": "markdown",
   "metadata": {},
   "source": [
    "## 1.Write a Python program to generate and print a list and a dictionary of square of numbers between 1 and 15 (both included) "
   ]
  },
  {
   "cell_type": "code",
   "execution_count": 12,
   "metadata": {},
   "outputs": [
    {
     "name": "stdout",
     "output_type": "stream",
     "text": [
      "{1: 1, 2: 4, 3: 9, 4: 16, 5: 25, 6: 36, 7: 49, 8: 64, 9: 81, 10: 100, 11: 121, 12: 144, 13: 169, 14: 196, 15: 225}\n",
      "[1, 4, 9, 16, 25, 36, 49, 64, 81, 100, 121, 144, 169, 196, 225]\n"
     ]
    }
   ],
   "source": [
    "d={}\n",
    "D=[]\n",
    "n=15\n",
    "for i in range(1,n+1):    \n",
    "    d[i]=i**2\n",
    "    D.append(i**2)\n",
    "print(d)\n",
    "print(D)"
   ]
  },
  {
   "cell_type": "markdown",
   "metadata": {},
   "source": [
    "## 2.Take 10 integer inputs from user and store them in a list and print them on screen."
   ]
  },
  {
   "cell_type": "code",
   "execution_count": 6,
   "metadata": {},
   "outputs": [
    {
     "name": "stdout",
     "output_type": "stream",
     "text": [
      "10\n",
      "[1, 2, 3, 4, 5, 6, 7, 8, 9, 10]\n"
     ]
    }
   ],
   "source": [
    "a=[]\n",
    "n=int(input())\n",
    "for i in range (1,n+1):\n",
    "    a.append(i)\n",
    "print(a)"
   ]
  },
  {
   "cell_type": "markdown",
   "metadata": {},
   "source": [
    "## 3.l=[1,5,7,3,2,4,5,9],print list of all even numbers from the given list "
   ]
  },
  {
   "cell_type": "code",
   "execution_count": 4,
   "metadata": {},
   "outputs": [
    {
     "name": "stdout",
     "output_type": "stream",
     "text": [
      "[2, 4]\n"
     ]
    }
   ],
   "source": [
    "def even(l):\n",
    "    x = []\n",
    "    for n in l:\n",
    "        if n % 2 == 0:\n",
    "            x.append(n)\n",
    "    return x\n",
    "print(even([1,5,7,3,2,4,5,9]))"
   ]
  },
  {
   "cell_type": "markdown",
   "metadata": {},
   "source": [
    "## 5. Ask user to give name and marks of 10 different students. Store them in dictionary."
   ]
  },
  {
   "cell_type": "code",
   "execution_count": 22,
   "metadata": {},
   "outputs": [
    {
     "name": "stdout",
     "output_type": "stream",
     "text": [
      "10\n",
      "hummu\n",
      "20\n",
      "fuuru\n",
      "30\n",
      "junnu\n",
      "40\n",
      "sabbu\n",
      "50\n",
      "saddu\n",
      "60\n",
      "humma\n",
      "70\n",
      "cute\n",
      "80\n",
      "alia\n",
      "90\n",
      "bhatt\n",
      "100\n",
      "sri\n",
      "23\n",
      "{'hummu': 20, 'fuuru': 30, 'junnu': 40, 'sabbu': 50, 'saddu': 60, 'humma': 70, 'cute': 80, 'alia': 90, 'bhatt': 100, 'sri': 23}\n"
     ]
    }
   ],
   "source": [
    "d={}\n",
    "n=int(input())\n",
    "for i in range(1,n+1):\n",
    "    s=input()\n",
    "    x=int(input())\n",
    "    d[s]=x\n",
    "print(d)"
   ]
  },
  {
   "cell_type": "markdown",
   "metadata": {},
   "source": [
    " ## 6.Sort the dictionary created in previous example according to marks."
   ]
  },
  {
   "cell_type": "code",
   "execution_count": 21,
   "metadata": {},
   "outputs": [
    {
     "name": "stdout",
     "output_type": "stream",
     "text": [
      "3\n",
      "10\n",
      "a\n",
      "20\n",
      "b\n",
      "30\n",
      "c\n",
      "{10: 'a', 20: 'b', 30: 'c'}\n",
      "[10, 20, 30]\n",
      "10 : a\n",
      "20 : b\n",
      "30 : c\n"
     ]
    }
   ],
   "source": [
    "d={}\n",
    "n=int(input())\n",
    "for i in range(1,n+1):\n",
    "    s=int(input())\n",
    "    x=input()\n",
    "    d[s]=x\n",
    "print(d)\n",
    "a=sorted(d.keys())  #sorted marks\n",
    "print(a)\n",
    "for i in a:\n",
    "    print(i,\":\",d[i])"
   ]
  },
  {
   "cell_type": "markdown",
   "metadata": {},
   "source": [
    "## 7.Use dictionary to store antonyms of words. \n",
    "\n",
    "## E.g.- 'Right':'Left', 'Up':'Down', etc. Display all words and then ask user to enter a word and display antonym of it."
   ]
  },
  {
   "cell_type": "code",
   "execution_count": 2,
   "metadata": {},
   "outputs": [
    {
     "name": "stdout",
     "output_type": "stream",
     "text": [
      "['Right', 'top', 'push']\n",
      "push\n",
      "pop\n"
     ]
    }
   ],
   "source": [
    "g={\"Right\":\"Left\",\"top\":\"down\",\"push\":\"pop\"}\n",
    "print(list(g.keys()))\n",
    "n=input()\n",
    "print(g[n])"
   ]
  },
  {
   "cell_type": "markdown",
   "metadata": {},
   "source": [
    " ## 8 .Count the number of occurrence of each letter in word \"MISSISSIPPI\". Store count of every letter with the letter in a dictionary."
   ]
  },
  {
   "cell_type": "code",
   "execution_count": 41,
   "metadata": {},
   "outputs": [
    {
     "name": "stdout",
     "output_type": "stream",
     "text": [
      "{'M': 1, 'I': 4, 'S': 4, 'P': 2}\n"
     ]
    }
   ],
   "source": [
    "l=\"MISSISSIPPI\"\n",
    "a={}\n",
    "for i in l:\n",
    "    a[i]=l.count(i)\n",
    "print(a)"
   ]
  },
  {
   "cell_type": "markdown",
   "metadata": {},
   "source": [
    "## 9.From the previous question, sort according to the number of letters."
   ]
  },
  {
   "cell_type": "code",
   "execution_count": 4,
   "metadata": {},
   "outputs": [
    {
     "name": "stdout",
     "output_type": "stream",
     "text": [
      "{'I': 4, 'M': 1, 'P': 2, 'S': 4}\n"
     ]
    }
   ],
   "source": [
    "l=\"MISSISSIPPI\"\n",
    "a={}\n",
    "l=sorted(l)\n",
    "for i in l:\n",
    "    a[i]=l.count(i)\n",
    "print(a)"
   ]
  },
  {
   "cell_type": "markdown",
   "metadata": {},
   "source": [
    "## 4. Take 10 integer inputs from user and print the following:\n",
    "\n",
    "## number of positive numbers\n",
    "\n",
    "## number of negative numbers\n",
    "\n",
    "## number of odd numbers\n",
    "\n",
    "## number of even numbers\n",
    "\n",
    "## number of 0s.using dictionaries\n",
    "\n",
    "## a=[10,20,-5,-6,3,4,0,0,-2,8]\n",
    "\n",
    "## d={p:5,n:3,e:6,odd:2,0:2}"
   ]
  },
  {
   "cell_type": "code",
   "execution_count": 11,
   "metadata": {},
   "outputs": [
    {
     "name": "stdout",
     "output_type": "stream",
     "text": [
      "6\n",
      "-2\n",
      "3\n",
      "-7\n",
      "-9\n",
      "1\n",
      "-3\n",
      "-5\n",
      "2\n",
      "-9\n",
      "{'p': 4, 'n': 6, 'e': 3, 'o': 7, 'z': 0}\n"
     ]
    }
   ],
   "source": [
    "l=[]\n",
    "for i in range(1,11):\n",
    "    n=int(input())\n",
    "    l.append(n)\n",
    "d={'p':0,'n':0,'e':0,'o':0,'z':0}\n",
    "for j in l:\n",
    "    if j>0:\n",
    "        d['p']+=1\n",
    "        if j%2==0:\n",
    "            d['e']+=1\n",
    "        else:\n",
    "            d['o']+=1\n",
    "    elif j<0:\n",
    "        d['n']+=1\n",
    "        if j%2==0:\n",
    "            d['e']+=1\n",
    "        else:\n",
    "            d['o']+=1\n",
    "    elif j==0:\n",
    "         d['z']+=1\n",
    "print(d)\n",
    "            "
   ]
  },
  {
   "cell_type": "code",
   "execution_count": null,
   "metadata": {},
   "outputs": [],
   "source": []
  }
 ],
 "metadata": {
  "kernelspec": {
   "display_name": "Python 3",
   "language": "python",
   "name": "python3"
  }
 },
 "nbformat": 4,
 "nbformat_minor": 2
}
