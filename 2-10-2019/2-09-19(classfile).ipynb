{
 "cells": [
  {
   "cell_type": "markdown",
   "metadata": {},
   "source": [
    "## regular expression"
   ]
  },
  {
   "cell_type": "code",
   "execution_count": null,
   "metadata": {},
   "outputs": [],
   "source": [
    ">>abc.....[exact character sequence,but anywhere in the string]\n",
    ">>^abc....[begining of the string]\n",
    ">>abc$.....[end of the string]\n",
    ">>a|b......[either a or b]\n",
    ">>^abc|abc$.....[string abc at the beginning or at the end of the string]\n",
    ">>ab{2,4}.......[a followed by two,three or four b's follwed by c]\n",
    ">>ab{2,}c......[a folllowed by atleast two b's followed by c]\n",
    ">>ab*c\n",
    " "
   ]
  },
  {
   "cell_type": "markdown",
   "metadata": {},
   "source": [
    "## email and roll number"
   ]
  },
  {
   "cell_type": "code",
   "execution_count": null,
   "metadata": {},
   "outputs": [],
   "source": [
    ">roll... ^[0-9]{2}([0-9]|[a-z]|[0-5][A-Z]){2}1([A-Z]|[a-z])0[1-5]([0-9]|[a-z]|[A-Z]){2}$\n",
    ">email... ^([0-9]|[a-z]|[A-Z])([0-9]|[a-z]|[A-Z]|[_]){6,14}([0-9]|[a-z])@[a-z]{2,10}[.][a-z]{2,4}$"
   ]
  },
  {
   "cell_type": "markdown",
   "metadata": {},
   "source": [
    "## phone validation"
   ]
  },
  {
   "cell_type": "code",
   "execution_count": 10,
   "metadata": {},
   "outputs": [
    {
     "data": {
      "text/plain": [
       "1"
      ]
     },
     "execution_count": 10,
     "metadata": {},
     "output_type": "execute_result"
    }
   ],
   "source": [
    "#10 digit number starting with zero\n",
    "#^[0][6-9][0-9]{9}$\n",
    "#10 digit number starting with +91\n",
    "#^+91[6-9][0-9]{9}$\n",
    "#^[6-9][0-9]{9}$\n",
    "import re\n",
    "def phoneno(no):\n",
    "    pattern='^[+][9][1][6-9][0-9]{9}$|^[0][6-9][0-9]{9}$|^[6-9][0-9]{9}$'  #re always in string\n",
    "    if re.match(pattern,no):\n",
    "        return 1\n",
    "    else:\n",
    "        return 0\n",
    "phoneno(\"7013073522\")\n",
    "phoneno(\"+919966404102\")"
   ]
  },
  {
   "cell_type": "markdown",
   "metadata": {},
   "source": [
    "## email validation"
   ]
  },
  {
   "cell_type": "code",
   "execution_count": 11,
   "metadata": {},
   "outputs": [
    {
     "data": {
      "text/plain": [
       "1"
      ]
     },
     "execution_count": 11,
     "metadata": {},
     "output_type": "execute_result"
    }
   ],
   "source": [
    "# ^([0-9]|[a-z]|[A-Z])([0-9]|[a-z]|[A-Z]|[_]){6,14}([0-9]|[a-z])@[a-z]{2,10}[.][a-z]{2,4}$\n",
    "import re\n",
    "def email(no):\n",
    "    pattern='^([0-9]|[a-z]|[A-Z])([0-9]|[a-z]|[A-Z]|[_]){6,14}([0-9]|[a-z])@[a-z]{2,10}[.][a-z]{2,4}$'\n",
    "    if re.match(pattern,no):\n",
    "        return 1\n",
    "    else:\n",
    "        return 0\n",
    "email(\"angelhummuk@gmail.com\")"
   ]
  },
  {
   "cell_type": "markdown",
   "metadata": {},
   "source": [
    "## email and validation"
   ]
  },
  {
   "cell_type": "code",
   "execution_count": 15,
   "metadata": {},
   "outputs": [
    {
     "name": "stdout",
     "output_type": "stream",
     "text": [
      "phone verified successfully\n",
      "email verified succesfully\n"
     ]
    },
    {
     "data": {
      "text/plain": [
       "{'name1': ['7013073522', 'angelhummuk@gmail.com'],\n",
       " 'kvsw': ['6305856266', 'hummusadaf@gmail.com']}"
      ]
     },
     "execution_count": 15,
     "metadata": {},
     "output_type": "execute_result"
    }
   ],
   "source": [
    "contact={'name1':['7013073522','angelhummuk@gmail.com']}\n",
    "def addcontact(name,l):  \n",
    "    if name not in contact:      \n",
    "        no=l[0]\n",
    "        id=l[1]\n",
    "        if phoneno(no)==1:\n",
    "            print(\"phone verified successfully\")\n",
    "            if email(id)==1: \n",
    "                print(\"email verified succesfully\")\n",
    "                contact[name]=l\n",
    "         \n",
    "        else:\n",
    "            print(\"enter a valid no and emailid\")\n",
    "    else:\n",
    "        print(\"contact already exists\")\n",
    "addcontact(\"kvsw\",[\"6305856266\",\"hummusadaf@gmail.com\"])\n",
    "contact"
   ]
  },
  {
   "cell_type": "code",
   "execution_count": null,
   "metadata": {},
   "outputs": [],
   "source": []
  },
  {
   "cell_type": "code",
   "execution_count": null,
   "metadata": {},
   "outputs": [],
   "source": []
  }
 ],
 "metadata": {
  "kernelspec": {
   "display_name": "Python 3",
   "language": "python",
   "name": "python3"
  },
  "language_info": {
   "codemirror_mode": {
    "name": "ipython",
    "version": 3
   },
   "file_extension": ".py",
   "mimetype": "text/x-python",
   "name": "python",
   "nbconvert_exporter": "python",
   "pygments_lexer": "ipython3",
   "version": "3.7.3"
  }
 },
 "nbformat": 4,
 "nbformat_minor": 2
}
