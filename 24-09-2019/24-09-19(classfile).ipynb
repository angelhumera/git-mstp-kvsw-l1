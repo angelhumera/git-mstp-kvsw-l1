{
 "cells": [
  {
   "cell_type": "markdown",
   "metadata": {},
   "source": [
    "## function\n",
    "## reusability\n",
    "## easy to debug\n",
    "* function declaration ---->no declaration in python\n",
    "* function defination\n",
    "* function calling"
   ]
  },
  {
   "cell_type": "code",
   "execution_count": 1,
   "metadata": {},
   "outputs": [
    {
     "data": {
      "text/plain": [
       "'def functionname():#to define fun\\n    statement1\\n    statement2\\nfunctionname()#functioncall'"
      ]
     },
     "execution_count": 1,
     "metadata": {},
     "output_type": "execute_result"
    }
   ],
   "source": [
    "'''def functionname():#to define fun\n",
    "    statement1\n",
    "    statement2\n",
    "functionname()#functioncall'''"
   ]
  },
  {
   "cell_type": "code",
   "execution_count": 4,
   "metadata": {},
   "outputs": [
    {
     "name": "stdout",
     "output_type": "stream",
     "text": [
      "20\n",
      "39\n",
      "59\n"
     ]
    }
   ],
   "source": [
    "def addition():\n",
    "    a=int(input())\n",
    "    b=int(input())\n",
    "    print(a+b)\n",
    "addition()"
   ]
  },
  {
   "cell_type": "markdown",
   "metadata": {},
   "source": [
    "## function with arguments"
   ]
  },
  {
   "cell_type": "code",
   "execution_count": 5,
   "metadata": {},
   "outputs": [
    {
     "data": {
      "text/plain": [
       "(20, 50, 70)"
      ]
     },
     "execution_count": 5,
     "metadata": {},
     "output_type": "execute_result"
    }
   ],
   "source": [
    "def add(a,b):    #to return a value only one fun can return one value\n",
    "    c=a+b\n",
    "    return(a,b,c)\n",
    "add(20,50)"
   ]
  },
  {
   "cell_type": "code",
   "execution_count": 9,
   "metadata": {},
   "outputs": [
    {
     "name": "stdout",
     "output_type": "stream",
     "text": [
      "1\n",
      "odd\n"
     ]
    }
   ],
   "source": [
    "def evenorodd(a):\n",
    "    if(a%2==0):\n",
    "        print(\"even\")\n",
    "    else:\n",
    "        print(\"odd\")\n",
    "a=int(input())\n",
    "evenorodd(a)"
   ]
  },
  {
   "cell_type": "code",
   "execution_count": 10,
   "metadata": {},
   "outputs": [
    {
     "name": "stdout",
     "output_type": "stream",
     "text": [
      "210\n"
     ]
    }
   ],
   "source": [
    "#1.sum of n natural numbers\n",
    "def sum(n):\n",
    "    s=0\n",
    "    for i in range(1,n+1):\n",
    "        s=s+i\n",
    "    print(s)\n",
    "sum(20)"
   ]
  },
  {
   "cell_type": "code",
   "execution_count": 14,
   "metadata": {},
   "outputs": [
    {
     "name": "stdout",
     "output_type": "stream",
     "text": [
      "5\n",
      "p---> 1\n",
      "p---> 2\n",
      "p---> 6\n",
      "p---> 24\n",
      "p---> 120\n",
      "120\n"
     ]
    }
   ],
   "source": [
    "#2. sum of product of the natural numbers\n",
    "def sumofproduct(n):\n",
    "    p=1\n",
    "    for i in range(1,n+1):\n",
    "        p=p*i\n",
    "        print(\"p--->\",p)\n",
    "    print(p)\n",
    "n=int(input())\n",
    "sumofproduct(n)"
   ]
  },
  {
   "cell_type": "code",
   "execution_count": 18,
   "metadata": {},
   "outputs": [
    {
     "name": "stdout",
     "output_type": "stream",
     "text": [
      "40\n",
      "20\n"
     ]
    }
   ],
   "source": [
    "#3. avg of first n natural numbers\n",
    "def average(n):\n",
    "    s=0\n",
    "    c=0\n",
    "    for i in range(1,n+1):\n",
    "        s=s+i\n",
    "        c=c+1\n",
    "    a=s//c\n",
    "    print(a)\n",
    "n=int(input())\n",
    "average(n)"
   ]
  },
  {
   "cell_type": "code",
   "execution_count": 21,
   "metadata": {},
   "outputs": [
    {
     "name": "stdout",
     "output_type": "stream",
     "text": [
      "12\n",
      "0 1\n",
      "1\n",
      "2\n",
      "3\n",
      "5\n",
      "8\n",
      "13\n",
      "21\n",
      "34\n",
      "55\n",
      "89\n",
      "144\n"
     ]
    }
   ],
   "source": [
    "#4. fibanocci of a given number\n",
    "def fibanocci(n):\n",
    "    a=0\n",
    "    b=1\n",
    "    print(a,b)\n",
    "    for i in range(1,n):\n",
    "        c=a+b\n",
    "        print(c)\n",
    "        a=b\n",
    "        b=c\n",
    "n=int(input())\n",
    "fibanocci(n)\n"
   ]
  },
  {
   "cell_type": "code",
   "execution_count": 22,
   "metadata": {},
   "outputs": [
    {
     "name": "stdout",
     "output_type": "stream",
     "text": [
      "10\n",
      "1 2 5 10 "
     ]
    }
   ],
   "source": [
    "#5. print the factors of a given number\n",
    "def factors(n):\n",
    "    for i in range(1,n+1):\n",
    "        if(n%i==0):\n",
    "            print(i,end=\" \")\n",
    "n=int(input())\n",
    "factors(n)"
   ]
  },
  {
   "cell_type": "code",
   "execution_count": 25,
   "metadata": {},
   "outputs": [
    {
     "name": "stdout",
     "output_type": "stream",
     "text": [
      "10\n",
      "1 2 5 10 s---> 18\n"
     ]
    }
   ],
   "source": [
    "#6. print the factors sum of a given number\n",
    "def factorsum(n):\n",
    "    s=0\n",
    "    for i in range(1,n+1):\n",
    "        if(n%i==0):\n",
    "            s=s+i\n",
    "            print(i,end=\" \")\n",
    "    print(\"s--->\",s)\n",
    "n=int(input())\n",
    "factorsum(n)"
   ]
  },
  {
   "cell_type": "code",
   "execution_count": 5,
   "metadata": {},
   "outputs": [
    {
     "name": "stdout",
     "output_type": "stream",
     "text": [
      "2019\n",
      "not leap year\n"
     ]
    }
   ],
   "source": [
    "# 7.check whether a given number is leapyear or not\n",
    "def leapyearornot(n):\n",
    "    if(n%4==0 or n%100!=0 and n%400==0):\n",
    "        print(\"leap year\")\n",
    "    else:\n",
    "        print(\"not leap year\")\n",
    "n=int(input())\n",
    "leapyearornot(n)"
   ]
  },
  {
   "cell_type": "code",
   "execution_count": 10,
   "metadata": {},
   "outputs": [
    {
     "name": "stdout",
     "output_type": "stream",
     "text": [
      "7\n",
      "1\n",
      "not perfect number\n"
     ]
    }
   ],
   "source": [
    "#8.program to check whether a given number is perfect or not\n",
    "def perfectnumber(n):\n",
    "    s=0\n",
    "    for i in range(1,n):\n",
    "        if(n%i==0):\n",
    "            s=s+i\n",
    "    print(s)\n",
    "    if(s==n):\n",
    "            print(\"perfect number\")\n",
    "    else:\n",
    "            print(\"not perfect number\")\n",
    "n=int(input())\n",
    "perfectnumber(n)"
   ]
  },
  {
   "cell_type": "code",
   "execution_count": 15,
   "metadata": {},
   "outputs": [
    {
     "name": "stdout",
     "output_type": "stream",
     "text": [
      "124\n",
      "7\n"
     ]
    }
   ],
   "source": [
    "#9. program to print the sum of digits in a given number\n",
    "def digitsum(n):\n",
    "    s=0\n",
    "    for i in range(0+n+1):\n",
    "        s=s+n%10\n",
    "        n=n//10\n",
    "    print(s)\n",
    "n=int(input())\n",
    "digitsum(n)"
   ]
  },
  {
   "cell_type": "code",
   "execution_count": 1,
   "metadata": {},
   "outputs": [
    {
     "name": "stdout",
     "output_type": "stream",
     "text": [
      "123\n",
      "36\n",
      "not armstrong\n"
     ]
    }
   ],
   "source": [
    "# 10.program to check whether a given number is armstrong or not\n",
    "def armstrong(n):\n",
    "    s=0\n",
    "    b=n\n",
    "    while(n!=0):\n",
    "        a=n%10\n",
    "        s=s+a**3\n",
    "        n=n//10\n",
    "    print(s)\n",
    "    if(s==b):\n",
    "        print(\"armstrong\")\n",
    "    else:\n",
    "        print(\"not armstrong\")\n",
    "n=int(input())\n",
    "armstrong(n)"
   ]
  },
  {
   "cell_type": "code",
   "execution_count": 4,
   "metadata": {},
   "outputs": [
    {
     "name": "stdout",
     "output_type": "stream",
     "text": [
      "6\n",
      "4\n",
      "not prime number\n"
     ]
    }
   ],
   "source": [
    "#11.program to check whether the given number is prime or not\n",
    "def primeornot(n):\n",
    "    fact=0\n",
    "    for i in range(1,n+1):\n",
    "        if(n%i==0):\n",
    "            fact=fact+1\n",
    "    print(fact)\n",
    "    if(fact==2):\n",
    "          print(\"prime number\")\n",
    "    else:\n",
    "         print(\"not prime number\")\n",
    "n=int(input())\n",
    "primeornot(n)"
   ]
  },
  {
   "cell_type": "code",
   "execution_count": null,
   "metadata": {},
   "outputs": [],
   "source": []
  }
 ],
 "metadata": {
  "kernelspec": {
   "display_name": "Python 3",
   "language": "python",
   "name": "python3"
  },
  "language_info": {
   "codemirror_mode": {
    "name": "ipython",
    "version": 3
   },
   "file_extension": ".py",
   "mimetype": "text/x-python",
   "name": "python",
   "nbconvert_exporter": "python",
   "pygments_lexer": "ipython3",
   "version": "3.7.3"
  }
 },
 "nbformat": 4,
 "nbformat_minor": 2
}
