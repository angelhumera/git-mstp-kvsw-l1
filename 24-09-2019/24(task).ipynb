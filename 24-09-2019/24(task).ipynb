{
 "cells": [
  {
   "cell_type": "markdown",
   "metadata": {},
   "source": [
    "## 1 Check if the number exist in a given range (inputs: number(n), range(lower number and upper number) "
   ]
  },
  {
   "cell_type": "code",
   "execution_count": 15,
   "metadata": {},
   "outputs": [
    {
     "name": "stdout",
     "output_type": "stream",
     "text": [
      "10\n",
      "1\n",
      "20\n",
      "in range---> 10\n"
     ]
    }
   ],
   "source": [
    "def number(n):\n",
    "    if  n in range(lb,ub):\n",
    "        print(\"in range--->\",n)\n",
    "    else:\n",
    "        print(\"not in range--->\",n)\n",
    "n=int(input())\n",
    "lb=int(input())\n",
    "ub=int(input())\n",
    "number(n)"
   ]
  },
  {
   "cell_type": "markdown",
   "metadata": {},
   "source": [
    "## 2Check the number of digits in a given number"
   ]
  },
  {
   "cell_type": "code",
   "execution_count": 1,
   "metadata": {},
   "outputs": [
    {
     "name": "stdout",
     "output_type": "stream",
     "text": [
      "1234\n",
      "4\n"
     ]
    }
   ],
   "source": [
    "def digit(n):\n",
    "    b=len(n)\n",
    "    print(b)\n",
    "n=input()\n",
    "digit(n)"
   ]
  },
  {
   "cell_type": "markdown",
   "metadata": {},
   "source": [
    "## 3Check if the given number is a factor of 1000 "
   ]
  },
  {
   "cell_type": "code",
   "execution_count": 2,
   "metadata": {},
   "outputs": [
    {
     "name": "stdout",
     "output_type": "stream",
     "text": [
      "5\n",
      "yes\n"
     ]
    }
   ],
   "source": [
    "def factor(i):\n",
    "    if((1000%i))==0:\n",
    "        print(\"yes\")\n",
    "    else:\n",
    "        print(\"not\")\n",
    "i=int(input())\n",
    "factor(i)"
   ]
  },
  {
   "cell_type": "markdown",
   "metadata": {},
   "source": [
    "## 4Calculate the square root of a given number "
   ]
  },
  {
   "cell_type": "code",
   "execution_count": 3,
   "metadata": {},
   "outputs": [
    {
     "name": "stdout",
     "output_type": "stream",
     "text": [
      "6\n",
      "2.449489742783178\n"
     ]
    }
   ],
   "source": [
    "def squareroot(n):\n",
    "    print(n**(1/2))\n",
    "n=int(input())\n",
    "squareroot(n)"
   ]
  },
  {
   "cell_type": "markdown",
   "metadata": {},
   "source": [
    "## 5 python program to take values of length and breadth(width) of a rectangle from user and check if it is square or not. . \n"
   ]
  },
  {
   "cell_type": "code",
   "execution_count": 5,
   "metadata": {},
   "outputs": [
    {
     "name": "stdout",
     "output_type": "stream",
     "text": [
      "3\n",
      "5\n",
      "rectangle\n"
     ]
    }
   ],
   "source": [
    "def square(l,b):\n",
    "    if(l==b):\n",
    "        print(\"square\")\n",
    "    else:\n",
    "        print(\"rectangle\")\n",
    "l=int(input())\n",
    "b=int(input())\n",
    "square(l,b)"
   ]
  },
  {
   "cell_type": "markdown",
   "metadata": {},
   "source": [
    "## 6 A school has following rules for grading system:\n",
    "## Below 25 - F\n",
    "## 25 to 45 - E\n",
    "## 45 to 50 - D\n",
    "## 50 to 60 - C\n",
    "## 60 to 80 - B\n",
    "## Above 80 - A"
   ]
  },
  {
   "cell_type": "code",
   "execution_count": 9,
   "metadata": {},
   "outputs": [
    {
     "name": "stdout",
     "output_type": "stream",
     "text": [
      "74\n",
      "B\n"
     ]
    }
   ],
   "source": [
    "def grade(n):\n",
    "    \n",
    "    if(n>80):\n",
    "        print(\"A\")\n",
    "    elif(n>60):\n",
    "        print(\"B\")\n",
    "    elif(n>50):\n",
    "        print(\"C\")\n",
    "    elif(n>45):\n",
    "        print(\"D\")\n",
    "    elif(n>=25):\n",
    "        print(\"E\")\n",
    "    elif(n<25):\n",
    "        print(\"F\")\n",
    "n=int(input())\n",
    "grade(n)\n",
    "    "
   ]
  },
  {
   "cell_type": "markdown",
   "metadata": {},
   "source": [
    "## 7 Take input of age of 3 people by user and determine oldest and youngest among them."
   ]
  },
  {
   "cell_type": "code",
   "execution_count": 11,
   "metadata": {},
   "outputs": [
    {
     "name": "stdout",
     "output_type": "stream",
     "text": [
      "365\n",
      "200\n",
      "54.794520547945204\n",
      "not allowed to exam\n"
     ]
    }
   ],
   "source": [
    "def student(ch,ca):\n",
    "    n=(((ca/ch)*100))\n",
    "    print(n)\n",
    "    if(n>=75):\n",
    "        print(\"allowed to exam\")\n",
    "    else:\n",
    "        print(\"not allowed to exam\")\n",
    "ch=int(input())\n",
    "ca=int(input())\n",
    "student(ch,ca)\n",
    "    \n",
    "    \n",
    "    "
   ]
  },
  {
   "cell_type": "markdown",
   "metadata": {},
   "source": [
    "## 8 A student will not be allowed to sit in exam if his/her attendance is less than 75%.\n",
    "\n",
    "## 1.Take following input from user Number of classes held,Number of classes attended.\n",
    "## 2.And print percentage of class attended Is student is allowed to sit in exam or not. "
   ]
  },
  {
   "cell_type": "code",
   "execution_count": 2,
   "metadata": {},
   "outputs": [
    {
     "name": "stdout",
     "output_type": "stream",
     "text": [
      "367\n",
      "200\n",
      "54.495912806539515\n",
      "not allowed to exam\n"
     ]
    }
   ],
   "source": [
    "def student(ch,ca):\n",
    "    n=(((ca/ch)*100))\n",
    "    print(n)\n",
    "    if(n>=75):\n",
    "        print(\"allowed to exam\")\n",
    "    else:\n",
    "        print(\"not allowed to exam\")\n",
    "ch=int(input())\n",
    "ca=int(input())\n",
    "student(ch,ca)"
   ]
  },
  {
   "cell_type": "code",
   "execution_count": null,
   "metadata": {},
   "outputs": [],
   "source": []
  }
 ],
 "metadata": {
  "kernelspec": {
   "display_name": "Python 3",
   "language": "python",
   "name": "python3"
  },
  "language_info": {
   "codemirror_mode": {
    "name": "ipython",
    "version": 3
   },
   "file_extension": ".py",
   "mimetype": "text/x-python",
   "name": "python",
   "nbconvert_exporter": "python",
   "pygments_lexer": "ipython3",
   "version": "3.7.3"
  }
 },
 "nbformat": 4,
 "nbformat_minor": 2
}
